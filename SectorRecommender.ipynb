{
  "nbformat": 4,
  "nbformat_minor": 0,
  "metadata": {
    "colab": {
      "name": "SectorRecommender.ipynb",
      "version": "0.3.2",
      "provenance": [],
      "collapsed_sections": []
    },
    "kernelspec": {
      "name": "python3",
      "display_name": "Python 3"
    }
  },
  "cells": [
    {
      "metadata": {
        "id": "6WJ-woq-WjPo",
        "colab_type": "text"
      },
      "cell_type": "markdown",
      "source": [
        "# Sector ETFs Recommender System\n",
        "###Objective: To train a stacking machine learning model that can recommend Sector ETFs that have the best 1-day return. \n",
        "### Members: Johann, Jing Wen, Zi Jun"
      ]
    },
    {
      "metadata": {
        "id": "a-D2W9ujeBcp",
        "colab_type": "code",
        "colab": {}
      },
      "cell_type": "code",
      "source": [
        "#Dependencies\n",
        "import pandas as pd\n",
        "import numpy as np\n",
        "import matplotlib.pyplot as plt\n",
        "from pandas_datareader import data as pdr\n",
        "import fix_yahoo_finance\n",
        "import datetime\n",
        "import cvxpy as cp\n",
        "\n",
        "from sklearn.preprocessing import StandardScaler, MinMaxScaler\n",
        "from sklearn.pipeline import Pipeline\n",
        "from sklearn.metrics import accuracy_score\n",
        "from sklearn.model_selection import train_test_split\n",
        "import warnings\n",
        "warnings.filterwarnings(\"ignore\")"
      ],
      "execution_count": 0,
      "outputs": []
    },
    {
      "metadata": {
        "id": "ceeqSmdlR-w-",
        "colab_type": "text"
      },
      "cell_type": "markdown",
      "source": [
        "# Inputs"
      ]
    },
    {
      "metadata": {
        "id": "0naxs2oUUJaR",
        "colab_type": "text"
      },
      "cell_type": "markdown",
      "source": [
        "### We select the oldest set of Sector ETFs:\n",
        "* SPDR Consumer Staples ETF (XLP) 1998-12-16\n",
        "* SPDR Consumer Discretionary ETF (XLY) 1998-12-16\n",
        "* SPDR Energy ETF (XLE) 1998-12-16\n",
        "* SPDR Financials ETF (XLF) 1998-12-16\n",
        "* SPDR Health Care ETF (XLV) 1998-12-16\n",
        "* SPDR Industrial ETF (XLI) 1998-12-16\n",
        "* SPDR Materials ETF (XLB) 1998-12-16\n",
        "* SPDR Technology ETF (XLK) 1998-12-16\n",
        "* SPDR Utilities ETF (XLU) 1998-12-16\n",
        "\n",
        "\n",
        "---\n",
        "\n",
        "\n",
        "### Excluded:\n",
        "* SPDR Telecommunication Services ETF (XLC) 2018-06-18\n",
        "* SPDR Real Estate ETF (XLRE) 2015-10-07"
      ]
    },
    {
      "metadata": {
        "id": "z75jpCT3GSe_",
        "colab_type": "text"
      },
      "cell_type": "markdown",
      "source": [
        "Note: Due to the relative infancy of Sector ETF concept, our dataset is limited and recent."
      ]
    },
    {
      "metadata": {
        "id": "Uz9bDpwsSCgz",
        "colab_type": "code",
        "colab": {}
      },
      "cell_type": "code",
      "source": [
        "#Input Sector ETF Tickers\n",
        "tickers = ['XLP', 'XLY', 'XLE', 'XLF', 'XLV', 'XLI', 'XLB', 'XLK', 'XLU']"
      ],
      "execution_count": 0,
      "outputs": []
    },
    {
      "metadata": {
        "id": "BmFSHS2aS2fV",
        "colab_type": "code",
        "colab": {}
      },
      "cell_type": "code",
      "source": [
        "#Input dates\n",
        "startdate = datetime.datetime(1999, 3, 31)\n",
        "enddate =  datetime.datetime(2019, 4, 1)\n",
        "\n",
        "#Extra data for Arima model\n",
        "arima_startdate = datetime.datetime(1998, 12, 17)\n",
        "arima_enddate = datetime.datetime(1999, 3, 30)\n",
        "\n",
        "#Extra data for SMA \n",
        "SMA_startdate = datetime.datetime(1999, 2, 18)\n",
        "SMA_enddate =  datetime.datetime(1999, 3, 30)"
      ],
      "execution_count": 0,
      "outputs": []
    },
    {
      "metadata": {
        "id": "kTxGegWZT6yq",
        "colab_type": "text"
      },
      "cell_type": "markdown",
      "source": [
        "# Data Retrieval"
      ]
    },
    {
      "metadata": {
        "id": "CKqL4S2nT2Wm",
        "colab_type": "code",
        "colab": {}
      },
      "cell_type": "code",
      "source": [
        "#Retrieve prices\n",
        "prices_dict = {}\n",
        "for ticker in tickers:\n",
        "    ticker_prices = pdr.get_data_yahoo(ticker, startdate, enddate)\n",
        "    prices_dict[ticker] = ticker_prices['Adj Close']\n",
        "\n",
        "#Returns\n",
        "prices = pd.DataFrame(prices_dict)\n",
        "returns = prices.pct_change().dropna()\n",
        "\n"
      ],
      "execution_count": 0,
      "outputs": []
    },
    {
      "metadata": {
        "id": "d_TjlacPi_gQ",
        "colab_type": "code",
        "outputId": "cbcc2ebe-e57b-4c69-ba23-7917adc5faec",
        "colab": {
          "base_uri": "https://localhost:8080/",
          "height": 451
        }
      },
      "cell_type": "code",
      "source": [
        "print(returns.head(10))"
      ],
      "execution_count": 203,
      "outputs": [
        {
          "output_type": "stream",
          "text": [
            "                 XLP       XLY       XLE       XLF       XLV       XLI  \\\n",
            "Date                                                                     \n",
            "1999-04-01  0.001773 -0.001093 -0.001271  0.002506  0.000000  0.010650   \n",
            "1999-04-05  0.005310  0.013129  0.024173  0.020001  0.022321  0.021700   \n",
            "1999-04-06 -0.011151  0.005400 -0.009938 -0.007353  0.001090 -0.005464   \n",
            "1999-04-07 -0.001186  0.008593 -0.010037  0.027161  0.019085  0.001832   \n",
            "1999-04-08  0.023173  0.022364  0.010139  0.018027  0.010167  0.005480   \n",
            "1999-04-09  0.002323  0.009375  0.018820 -0.002361  0.003176  0.000608   \n",
            "1999-04-12  0.016802  0.008256  0.007390  0.017754  0.025344  0.024213   \n",
            "1999-04-13  0.003419 -0.005117 -0.001223 -0.001165 -0.010299  0.007682   \n",
            "1999-04-14 -0.030097 -0.022633 -0.012240 -0.012803 -0.009363  0.021700   \n",
            "1999-04-15 -0.024590 -0.002106  0.043370 -0.009434 -0.025210  0.025832   \n",
            "\n",
            "                 XLB       XLK       XLU  \n",
            "Date                                      \n",
            "1999-04-01  0.011495  0.015798  0.021077  \n",
            "1999-04-05  0.012074  0.034469  0.008025  \n",
            "1999-04-06 -0.017544  0.008533 -0.005118  \n",
            "1999-04-07  0.010715 -0.002416  0.013152  \n",
            "1999-04-08  0.014134  0.009693  0.026521  \n",
            "1999-04-09 -0.004878 -0.001600 -0.007146  \n",
            "1999-04-12  0.029411 -0.015226  0.014398  \n",
            "1999-04-13  0.012245 -0.015458 -0.016377  \n",
            "1999-04-14  0.048387 -0.024793 -0.014427  \n",
            "1999-04-15  0.038461  0.008474  0.010133  \n"
          ],
          "name": "stdout"
        }
      ]
    },
    {
      "metadata": {
        "id": "_hTLfdFZT-3Q",
        "colab_type": "code",
        "outputId": "52b68f0b-9085-46c2-c02a-8913f40f1418",
        "colab": {
          "base_uri": "https://localhost:8080/",
          "height": 291
        }
      },
      "cell_type": "code",
      "source": [
        "prices.plot()"
      ],
      "execution_count": 204,
      "outputs": [
        {
          "output_type": "execute_result",
          "data": {
            "text/plain": [
              "<matplotlib.axes._subplots.AxesSubplot at 0x7f412e58e128>"
            ]
          },
          "metadata": {
            "tags": []
          },
          "execution_count": 204
        },
        {
          "output_type": "display_data",
          "data": {
            "image/png": "[encoded data removed]",
            "text/plain": [
              "<Figure size 432x288 with 1 Axes>"
            ]
          },
          "metadata": {
            "tags": []
          }
        }
      ]
    },
    {
      "metadata": {
        "id": "aWE-hqFbVCb9",
        "colab_type": "code",
        "outputId": "50f7cd67-0d5e-4fa4-cbcc-0976c6b65e62",
        "colab": {
          "base_uri": "https://localhost:8080/",
          "height": 291
        }
      },
      "cell_type": "code",
      "source": [
        "returns.plot()"
      ],
      "execution_count": 205,
      "outputs": [
        {
          "output_type": "execute_result",
          "data": {
            "text/plain": [
              "<matplotlib.axes._subplots.AxesSubplot at 0x7f412e01b828>"
            ]
          },
          "metadata": {
            "tags": []
          },
          "execution_count": 205
        },
        {
          "output_type": "display_data",
          "data": {
            "image/png": "[encoded data removed]",
            "text/plain": [
              "<Figure size 432x288 with 1 Axes>"
            ]
          },
          "metadata": {
            "tags": []
          }
        }
      ]
    },
    {
      "metadata": {
        "id": "mUXlt6LfLH-H",
        "colab_type": "code",
        "outputId": "c1ef41f3-18c6-498a-a91e-5dabc45c940e",
        "colab": {
          "base_uri": "https://localhost:8080/",
          "height": 537
        }
      },
      "cell_type": "code",
      "source": [
        "#Create DF\n",
        "#Add Y axis \n",
        "#rename ticker_returns\n",
        "#max of next row\n",
        "#last row remember to delete\n",
        "\n",
        "from sklearn.preprocessing import LabelEncoder\n",
        "\n",
        "df = returns.copy()\n",
        "df.columns = [str(col) + '_returns' for col in df.columns]\n",
        "\n",
        "#what if there are >1 max?\n",
        "max_next_day = df.idxmax(axis = 1)\n",
        "print(max_next_day.head())\n",
        "\n",
        "df[\"max_next_day\"] = max_next_day\n",
        "df.max_next_day = df.max_next_day.shift(-1)\n",
        "\n",
        "df.drop(df.tail(1).index,inplace=True) #remove last row\n",
        "\n",
        "le = LabelEncoder()\n",
        "df['labelencode_max_next_day'] = le.fit_transform(df['max_next_day'])\n",
        "  \n",
        "print(df.head())"
      ],
      "execution_count": 206,
      "outputs": [
        {
          "output_type": "stream",
          "text": [
            "Date\n",
            "1999-04-01    XLU_returns\n",
            "1999-04-05    XLK_returns\n",
            "1999-04-06    XLK_returns\n",
            "1999-04-07    XLF_returns\n",
            "1999-04-08    XLU_returns\n",
            "dtype: object\n",
            "            XLP_returns  XLY_returns  XLE_returns  XLF_returns  XLV_returns  \\\n",
            "Date                                                                          \n",
            "1999-04-01     0.001773    -0.001093    -0.001271     0.002506     0.000000   \n",
            "1999-04-05     0.005310     0.013129     0.024173     0.020001     0.022321   \n",
            "1999-04-06    -0.011151     0.005400    -0.009938    -0.007353     0.001090   \n",
            "1999-04-07    -0.001186     0.008593    -0.010037     0.027161     0.019085   \n",
            "1999-04-08     0.023173     0.022364     0.010139     0.018027     0.010167   \n",
            "\n",
            "            XLI_returns  XLB_returns  XLK_returns  XLU_returns max_next_day  \\\n",
            "Date                                                                          \n",
            "1999-04-01     0.010650     0.011495     0.015798     0.021077  XLK_returns   \n",
            "1999-04-05     0.021700     0.012074     0.034469     0.008025  XLK_returns   \n",
            "1999-04-06    -0.005464    -0.017544     0.008533    -0.005118  XLF_returns   \n",
            "1999-04-07     0.001832     0.010715    -0.002416     0.013152  XLU_returns   \n",
            "1999-04-08     0.005480     0.014134     0.009693     0.026521  XLE_returns   \n",
            "\n",
            "            labelencode_max_next_day  \n",
            "Date                                  \n",
            "1999-04-01                         4  \n",
            "1999-04-05                         4  \n",
            "1999-04-06                         2  \n",
            "1999-04-07                         6  \n",
            "1999-04-08                         1  \n"
          ],
          "name": "stdout"
        }
      ]
    },
    {
      "metadata": {
        "id": "bRzIkIKeWbdn",
        "colab_type": "text"
      },
      "cell_type": "markdown",
      "source": [
        "#Initial Analysis"
      ]
    },
    {
      "metadata": {
        "id": "A9p-otdSWd2F",
        "colab_type": "code",
        "outputId": "0b2e4462-3401-4ae1-eb4f-a3b1afb61c49",
        "colab": {
          "base_uri": "https://localhost:8080/",
          "height": 191
        }
      },
      "cell_type": "code",
      "source": [
        "#Check average daily returns\n",
        "print(returns.mean(axis=0))"
      ],
      "execution_count": 207,
      "outputs": [
        {
          "output_type": "stream",
          "text": [
            "XLP    0.000283\n",
            "XLY    0.000421\n",
            "XLE    0.000421\n",
            "XLF    0.000369\n",
            "XLV    0.000355\n",
            "XLI    0.000382\n",
            "XLB    0.000394\n",
            "XLK    0.000318\n",
            "XLU    0.000363\n",
            "dtype: float64\n"
          ],
          "name": "stdout"
        }
      ]
    },
    {
      "metadata": {
        "id": "FDpT9dmQHJFY",
        "colab_type": "code",
        "outputId": "cfeede10-a5d6-4eed-b46e-aff3d78f3955",
        "colab": {
          "base_uri": "https://localhost:8080/",
          "height": 52
        }
      },
      "cell_type": "code",
      "source": [
        "#Sector with Highest Returns\n",
        "print(\"\\n\"+\"Sector with Highest Returns: \" + np.argmax(returns.mean(axis=0)))\n"
      ],
      "execution_count": 208,
      "outputs": [
        {
          "output_type": "stream",
          "text": [
            "\n",
            "Sector with Highest Returns: XLY\n"
          ],
          "name": "stdout"
        }
      ]
    },
    {
      "metadata": {
        "id": "ihECsHWMlYtJ",
        "colab_type": "code",
        "outputId": "a34433bf-19ef-4919-af1f-046579690164",
        "colab": {
          "base_uri": "https://localhost:8080/",
          "height": 173
        }
      },
      "cell_type": "code",
      "source": [
        "#Composition of Dataset\n",
        "for ticker in returns.columns:\n",
        "  print(\"% of Dataset max_next_day_return that is \" + ticker + \": \" + str(len(df[df[\"max_next_day\"] == ticker+\"_returns\"])/len(df)))"
      ],
      "execution_count": 209,
      "outputs": [
        {
          "output_type": "stream",
          "text": [
            "% of Dataset max_next_day_return that is XLP: 0.08884913536076326\n",
            "% of Dataset max_next_day_return that is XLY: 0.0725501888292586\n",
            "% of Dataset max_next_day_return that is XLE: 0.20333929636255219\n",
            "% of Dataset max_next_day_return that is XLF: 0.11329755515802027\n",
            "% of Dataset max_next_day_return that is XLV: 0.08547008547008547\n",
            "% of Dataset max_next_day_return that is XLI: 0.05108328364142318\n",
            "% of Dataset max_next_day_return that is XLB: 0.10812959650168953\n",
            "% of Dataset max_next_day_return that is XLK: 0.11965811965811966\n",
            "% of Dataset max_next_day_return that is XLU: 0.15762273901808785\n"
          ],
          "name": "stdout"
        }
      ]
    },
    {
      "metadata": {
        "id": "CsPp4rzMUZ_S",
        "colab_type": "text"
      },
      "cell_type": "markdown",
      "source": [
        "# Feature Engineering"
      ]
    },
    {
      "metadata": {
        "id": "UMQeXMs6q90_",
        "colab_type": "text"
      },
      "cell_type": "markdown",
      "source": [
        "## Day of Week"
      ]
    },
    {
      "metadata": {
        "id": "iWBA5uR3rC5B",
        "colab_type": "code",
        "colab": {}
      },
      "cell_type": "code",
      "source": [
        "# dates = df.index.tolist()\n",
        "# day_of_week=[]\n",
        "# for i in range(0, len(dates)):\n",
        "#   day = dates[i].to_pydatetime().weekday()\n",
        "#   day_of_week.append(day)\n",
        "# df['day_of_week'] = day_of_week\n",
        "\n",
        "# df.head()"
      ],
      "execution_count": 0,
      "outputs": []
    },
    {
      "metadata": {
        "id": "V_s1_fIZAu81",
        "colab_type": "text"
      },
      "cell_type": "markdown",
      "source": [
        "## ARIMA Time Series Model"
      ]
    },
    {
      "metadata": {
        "id": "PRZgBfT7HcOD",
        "colab_type": "code",
        "outputId": "06f8a2e3-9ee9-422a-b27e-83089bcd741a",
        "colab": {
          "base_uri": "https://localhost:8080/",
          "height": 555
        }
      },
      "cell_type": "code",
      "source": [
        "#ARIMA\n",
        "# !pip install pyramid-arima\n",
        "from pyramid.arima import auto_arima\n",
        "\n",
        "#Retrieve prices\n",
        "arima_prices_dict = {}\n",
        "for ticker in tickers:\n",
        "    arima_ticker_prices = pdr.get_data_yahoo(ticker, arima_startdate, arima_enddate)\n",
        "    arima_prices_dict[ticker] = arima_ticker_prices['Adj Close']\n",
        "\n",
        "#Train data\n",
        "arima_train_prices = pd.DataFrame(arima_prices_dict)\n",
        "arima_train_data = arima_train_prices.sort_index(ascending=True, axis=0)\n",
        "\n",
        "#Data for prediction\n",
        "arima_output_prices = prices.copy()\n",
        "arima_output_data = arima_output_prices.sort_index(ascending=True, axis=0)\n",
        "\n",
        "arima_forecast = []\n",
        "\n",
        "for ticker in tickers:\n",
        "  train_arima = arima_train_data[ticker]\n",
        "  valid_arima = arima_output_data[ticker]\n",
        "\n",
        "  model = auto_arima(train_arima, start_p=1, start_q=1,max_p=3, max_q=3, m=12,start_P=0, seasonal=True,d=1, D=1, trace=False,error_action='ignore',suppress_warnings=True)\n",
        "  model.fit(train_arima)\n",
        "\n",
        "  forecast = model.predict(n_periods=5033)\n",
        "  forecast = pd.DataFrame(forecast,index = valid_arima.index,columns=['Prediction'])\n",
        "  arima_forecast.append(forecast)\n",
        "arima_forecast_array = pd.Series(arima_forecast)\n",
        "\n",
        "i = 0\n",
        "for ticker in tickers:\n",
        "  df[ticker + '_arima'] = arima_forecast_array[i]\n",
        "  i += 1\n",
        "del i\n",
        "\n",
        "print(df.head())\n"
      ],
      "execution_count": 211,
      "outputs": [
        {
          "output_type": "stream",
          "text": [
            "            XLP_returns  XLY_returns  XLE_returns  XLF_returns  XLV_returns  \\\n",
            "Date                                                                          \n",
            "1999-04-01     0.001773    -0.001093    -0.001271     0.002506     0.000000   \n",
            "1999-04-05     0.005310     0.013129     0.024173     0.020001     0.022321   \n",
            "1999-04-06    -0.011151     0.005400    -0.009938    -0.007353     0.001090   \n",
            "1999-04-07    -0.001186     0.008593    -0.010037     0.027161     0.019085   \n",
            "1999-04-08     0.023173     0.022364     0.010139     0.018027     0.010167   \n",
            "\n",
            "            XLI_returns  XLB_returns  XLK_returns  XLU_returns max_next_day  \\\n",
            "Date                                                                          \n",
            "1999-04-01     0.010650     0.011495     0.015798     0.021077  XLK_returns   \n",
            "1999-04-05     0.021700     0.012074     0.034469     0.008025  XLK_returns   \n",
            "1999-04-06    -0.005464    -0.017544     0.008533    -0.005118  XLF_returns   \n",
            "1999-04-07     0.001832     0.010715    -0.002416     0.013152  XLU_returns   \n",
            "1999-04-08     0.005480     0.014134     0.009693     0.026521  XLE_returns   \n",
            "\n",
            "            labelencode_max_next_day  XLP_arima  XLY_arima  XLE_arima  \\\n",
            "Date                                                                    \n",
            "1999-04-01                         4  17.096790  22.699081  16.919312   \n",
            "1999-04-05                         4  17.044637  22.723520  17.144893   \n",
            "1999-04-06                         2  17.163865  23.032379  17.158526   \n",
            "1999-04-07                         6  17.145196  22.822454  17.147394   \n",
            "1999-04-08                         1  17.311643  22.900627  17.266052   \n",
            "\n",
            "            XLF_arima  XLV_arima  XLI_arima  XLB_arima  XLK_arima  XLU_arima  \n",
            "Date                                                                          \n",
            "1999-04-01  10.522515  20.987384  17.339320  13.869669  29.135914  13.069480  \n",
            "1999-04-05  10.519888  21.017132  17.446245  13.920350  29.331509  12.869254  \n",
            "1999-04-06  10.630650  21.132955  17.416388  13.880229  29.670721  12.893950  \n",
            "1999-04-07  10.499869  20.982234  17.425726  13.908799  29.254903  12.737563  \n",
            "1999-04-08  10.659253  21.104164  17.428356  13.852822  29.502505  12.730425  \n"
          ],
          "name": "stdout"
        }
      ]
    },
    {
      "metadata": {
        "id": "wcBmVC6SjyF4",
        "colab_type": "text"
      },
      "cell_type": "markdown",
      "source": [
        "## SMA"
      ]
    },
    {
      "metadata": {
        "id": "hKBGDa1Xjxdo",
        "colab_type": "code",
        "colab": {}
      },
      "cell_type": "code",
      "source": [
        "# !wget http://prdownloads.sourceforge.net/ta-lib/ta-lib-0.4.0-src.tar.gz\n",
        "# !tar -xzvf ta-lib-0.4.0-src.tar.gz\n",
        "# %cd ta-lib\n",
        "# !./configure --prefix=/usr\n",
        "# !make\n",
        "# !make install\n",
        "# !pip install Ta-Lib\n",
        "import talib\n",
        "\n",
        "SMA_prices_dict = {}\n",
        "for ticker in tickers:\n",
        "    ticker_prices = pdr.get_data_yahoo(ticker, SMA_startdate, SMA_enddate)\n",
        "    SMA_prices_dict[ticker] = ticker_prices['Adj Close']\n",
        "\n",
        "#Returns\n",
        "SMA_prices = pd.DataFrame(SMA_prices_dict)\n",
        "length_SMA_data_added = len(SMA_prices_dict[tickers[0]])\n",
        "SMA_prices = SMA_prices.append(prices)\n",
        "\n",
        "#SMA Output\n",
        "SMA_list = []\n",
        "for ticker in tickers:\n",
        "  output = talib.SMA(SMA_prices[ticker])\n",
        "  SMA_list.append(output)\n",
        "\n",
        "SMA_list = pd.Series(SMA_list)\n",
        "\n",
        "#Remove the added data\n",
        "#Take out added data length + 1 because Zijun deleted first date \\\n",
        "#when she labelled max_next_day and take out last data \\\n",
        "#because zijun also deleted last date\n",
        "for i in range(0,len(tickers)):  \n",
        "    SMA_list[i] = SMA_list[i][length_SMA_data_added+1:-1] \n",
        "\n",
        "\n",
        "#Store in df\n",
        "i = 0\n",
        "for ticker in tickers:\n",
        "  df[ticker + '_SMA'] = SMA_list[i]\n",
        "  i += 1\n",
        "del i\n",
        "\n",
        "\n"
      ],
      "execution_count": 0,
      "outputs": []
    },
    {
      "metadata": {
        "id": "0SnXuSby_sJJ",
        "colab_type": "text"
      },
      "cell_type": "markdown",
      "source": [
        "## Bollinger Bands"
      ]
    },
    {
      "metadata": {
        "id": "s9b76jde_nXt",
        "colab_type": "code",
        "colab": {}
      },
      "cell_type": "code",
      "source": [
        "BBbands_prices_dict = {}\n",
        "for ticker in tickers:\n",
        "    ticker_prices = pdr.get_data_yahoo(ticker, SMA_startdate, SMA_enddate)\n",
        "    BBbands_prices_dict[ticker] = ticker_prices['Adj Close']\n",
        "\n",
        "#Returns\n",
        "BBbands_prices = pd.DataFrame(BBbands_prices_dict)\n",
        "length_BBbands_data_added = len(BBbands_prices_dict[tickers[0]])\n",
        "BBbands_prices = BBbands_prices.append(prices)\n",
        "\n",
        "#BBbands Output\n",
        "upper_BBbands_list = []\n",
        "middle_BBbands_list = []\n",
        "lower_BBbands_list = []\n",
        "for ticker in tickers:\n",
        "  upper, middle, lower = talib.BBANDS(BBbands_prices[ticker], matype=talib.MA_Type.T3)\n",
        "  upper_BBbands_list.append(upper)\n",
        "  middle_BBbands_list.append(middle)\n",
        "  lower_BBbands_list.append(lower)\n",
        "\n",
        "upper_BBbands_list = pd.Series(upper_BBbands_list)\n",
        "middle_BBbands_list = pd.Series(middle_BBbands_list)\n",
        "lower_BBbands_list = pd.Series(lower_BBbands_list)\n",
        "\n",
        "#Remove the added data\n",
        "#Take out added data length + 1 because Zijun deleted first date \\\n",
        "#when she labelled max_next_day and take out last data \\\n",
        "#because zijun also deleted last date\n",
        "for i in range(0,len(tickers)):  \n",
        "    upper_BBbands_list[i] = upper_BBbands_list[i][length_BBbands_data_added+1:-1] \n",
        "    middle_BBbands_list[i] = middle_BBbands_list[i][length_BBbands_data_added+1:-1] \n",
        "    lower_BBbands_list[i] = lower_BBbands_list[i][length_BBbands_data_added+1:-1] \n",
        "\n",
        "\n",
        "#Store in df\n",
        "i = 0\n",
        "for ticker in tickers:\n",
        "  df[ticker + '_upper_BBbands'] = upper_BBbands_list[i]\n",
        "  df[ticker + '_middle_BBbands'] = middle_BBbands_list[i]\n",
        "  df[ticker + '_lower_BBbands'] = lower_BBbands_list[i]\n",
        "  i += 1\n",
        "del i"
      ],
      "execution_count": 0,
      "outputs": []
    },
    {
      "metadata": {
        "id": "A6-t1jTmBHQZ",
        "colab_type": "text"
      },
      "cell_type": "markdown",
      "source": [
        "## Data Pre-processing"
      ]
    },
    {
      "metadata": {
        "id": "XNncLje4BJsR",
        "colab_type": "code",
        "colab": {}
      },
      "cell_type": "code",
      "source": [
        "#create x and y\n",
        "x = df.drop(['max_next_day', 'labelencode_max_next_day'], axis=1).copy() #making copies so editing x & y wouldnt change df\n",
        "y = df['labelencode_max_next_day'].copy()\n",
        "\n",
        "#Change to between 0 to 1\n",
        "scaler = MinMaxScaler()\n",
        "  \n",
        "x_values = x.values #returns a numpy array\n",
        "min_max_scaler = MinMaxScaler()\n",
        "x_scaled = min_max_scaler.fit_transform(x_values)\n",
        "x = pd.DataFrame(x_scaled, columns=x.columns)\n"
      ],
      "execution_count": 0,
      "outputs": []
    },
    {
      "metadata": {
        "id": "MJP5s0Pu2q_P",
        "colab_type": "code",
        "outputId": "a6fd505e-5e6d-49c1-9367-be622fe93748",
        "colab": {
          "base_uri": "https://localhost:8080/",
          "height": 251
        }
      },
      "cell_type": "code",
      "source": [
        "x.head()"
      ],
      "execution_count": 215,
      "outputs": [
        {
          "output_type": "execute_result",
          "data": {
            "text/html": [
              "<div>\n",
              "<style scoped>\n",
              "    .dataframe tbody tr th:only-of-type {\n",
              "        vertical-align: middle;\n",
              "    }\n",
              "\n",
              "    .dataframe tbody tr th {\n",
              "        vertical-align: top;\n",
              "    }\n",
              "\n",
              "    .dataframe thead th {\n",
              "        text-align: right;\n",
              "    }\n",
              "</style>\n",
              "<table border=\"1\" class=\"dataframe\">\n",
              "  <thead>\n",
              "    <tr style=\"text-align: right;\">\n",
              "      <th></th>\n",
              "      <th>XLP_returns</th>\n",
              "      <th>XLY_returns</th>\n",
              "      <th>XLE_returns</th>\n",
              "      <th>XLF_returns</th>\n",
              "      <th>XLV_returns</th>\n",
              "      <th>XLI_returns</th>\n",
              "      <th>XLB_returns</th>\n",
              "      <th>XLK_returns</th>\n",
              "      <th>XLU_returns</th>\n",
              "      <th>XLP_arima</th>\n",
              "      <th>...</th>\n",
              "      <th>XLI_lower_BBbands</th>\n",
              "      <th>XLB_upper_BBbands</th>\n",
              "      <th>XLB_middle_BBbands</th>\n",
              "      <th>XLB_lower_BBbands</th>\n",
              "      <th>XLK_upper_BBbands</th>\n",
              "      <th>XLK_middle_BBbands</th>\n",
              "      <th>XLK_lower_BBbands</th>\n",
              "      <th>XLU_upper_BBbands</th>\n",
              "      <th>XLU_middle_BBbands</th>\n",
              "      <th>XLU_lower_BBbands</th>\n",
              "    </tr>\n",
              "  </thead>\n",
              "  <tbody>\n",
              "    <tr>\n",
              "      <th>0</th>\n",
              "      <td>0.480364</td>\n",
              "      <td>0.538107</td>\n",
              "      <td>0.463047</td>\n",
              "      <td>0.355149</td>\n",
              "      <td>0.447977</td>\n",
              "      <td>0.520634</td>\n",
              "      <td>0.512341</td>\n",
              "      <td>0.413390</td>\n",
              "      <td>0.516285</td>\n",
              "      <td>0.000023</td>\n",
              "      <td>...</td>\n",
              "      <td>0.083301</td>\n",
              "      <td>0.052027</td>\n",
              "      <td>0.053325</td>\n",
              "      <td>0.057538</td>\n",
              "      <td>0.301097</td>\n",
              "      <td>0.299773</td>\n",
              "      <td>0.297584</td>\n",
              "      <td>0.088060</td>\n",
              "      <td>0.088364</td>\n",
              "      <td>0.093784</td>\n",
              "    </tr>\n",
              "    <tr>\n",
              "      <th>1</th>\n",
              "      <td>0.507757</td>\n",
              "      <td>0.604564</td>\n",
              "      <td>0.545340</td>\n",
              "      <td>0.391875</td>\n",
              "      <td>0.550191</td>\n",
              "      <td>0.575580</td>\n",
              "      <td>0.514528</td>\n",
              "      <td>0.488812</td>\n",
              "      <td>0.452929</td>\n",
              "      <td>0.000000</td>\n",
              "      <td>...</td>\n",
              "      <td>0.082622</td>\n",
              "      <td>0.052736</td>\n",
              "      <td>0.053709</td>\n",
              "      <td>0.057573</td>\n",
              "      <td>0.307984</td>\n",
              "      <td>0.304480</td>\n",
              "      <td>0.299967</td>\n",
              "      <td>0.088471</td>\n",
              "      <td>0.088110</td>\n",
              "      <td>0.092858</td>\n",
              "    </tr>\n",
              "    <tr>\n",
              "      <th>2</th>\n",
              "      <td>0.380255</td>\n",
              "      <td>0.568446</td>\n",
              "      <td>0.435014</td>\n",
              "      <td>0.334451</td>\n",
              "      <td>0.452971</td>\n",
              "      <td>0.440502</td>\n",
              "      <td>0.402636</td>\n",
              "      <td>0.384040</td>\n",
              "      <td>0.389129</td>\n",
              "      <td>0.000053</td>\n",
              "      <td>...</td>\n",
              "      <td>0.083526</td>\n",
              "      <td>0.053068</td>\n",
              "      <td>0.053903</td>\n",
              "      <td>0.057618</td>\n",
              "      <td>0.319048</td>\n",
              "      <td>0.310263</td>\n",
              "      <td>0.300245</td>\n",
              "      <td>0.089128</td>\n",
              "      <td>0.088461</td>\n",
              "      <td>0.092895</td>\n",
              "    </tr>\n",
              "    <tr>\n",
              "      <th>3</th>\n",
              "      <td>0.457439</td>\n",
              "      <td>0.583368</td>\n",
              "      <td>0.434694</td>\n",
              "      <td>0.406907</td>\n",
              "      <td>0.535373</td>\n",
              "      <td>0.476784</td>\n",
              "      <td>0.509396</td>\n",
              "      <td>0.339813</td>\n",
              "      <td>0.477813</td>\n",
              "      <td>0.000044</td>\n",
              "      <td>...</td>\n",
              "      <td>0.084712</td>\n",
              "      <td>0.053435</td>\n",
              "      <td>0.054161</td>\n",
              "      <td>0.057757</td>\n",
              "      <td>0.325430</td>\n",
              "      <td>0.315870</td>\n",
              "      <td>0.304943</td>\n",
              "      <td>0.090439</td>\n",
              "      <td>0.089467</td>\n",
              "      <td>0.093583</td>\n",
              "    </tr>\n",
              "    <tr>\n",
              "      <th>4</th>\n",
              "      <td>0.646129</td>\n",
              "      <td>0.647719</td>\n",
              "      <td>0.499950</td>\n",
              "      <td>0.387732</td>\n",
              "      <td>0.494534</td>\n",
              "      <td>0.494926</td>\n",
              "      <td>0.522313</td>\n",
              "      <td>0.388729</td>\n",
              "      <td>0.542705</td>\n",
              "      <td>0.000118</td>\n",
              "      <td>...</td>\n",
              "      <td>0.088209</td>\n",
              "      <td>0.054513</td>\n",
              "      <td>0.054937</td>\n",
              "      <td>0.058197</td>\n",
              "      <td>0.325119</td>\n",
              "      <td>0.321046</td>\n",
              "      <td>0.315601</td>\n",
              "      <td>0.094309</td>\n",
              "      <td>0.091629</td>\n",
              "      <td>0.093992</td>\n",
              "    </tr>\n",
              "  </tbody>\n",
              "</table>\n",
              "<p>5 rows × 54 columns</p>\n",
              "</div>"
            ],
            "text/plain": [
              "   XLP_returns  XLY_returns  XLE_returns  XLF_returns  XLV_returns  \\\n",
              "0     0.480364     0.538107     0.463047     0.355149     0.447977   \n",
              "1     0.507757     0.604564     0.545340     0.391875     0.550191   \n",
              "2     0.380255     0.568446     0.435014     0.334451     0.452971   \n",
              "3     0.457439     0.583368     0.434694     0.406907     0.535373   \n",
              "4     0.646129     0.647719     0.499950     0.387732     0.494534   \n",
              "\n",
              "   XLI_returns  XLB_returns  XLK_returns  XLU_returns  XLP_arima  ...  \\\n",
              "0     0.520634     0.512341     0.413390     0.516285   0.000023  ...   \n",
              "1     0.575580     0.514528     0.488812     0.452929   0.000000  ...   \n",
              "2     0.440502     0.402636     0.384040     0.389129   0.000053  ...   \n",
              "3     0.476784     0.509396     0.339813     0.477813   0.000044  ...   \n",
              "4     0.494926     0.522313     0.388729     0.542705   0.000118  ...   \n",
              "\n",
              "   XLI_lower_BBbands  XLB_upper_BBbands  XLB_middle_BBbands  \\\n",
              "0           0.083301           0.052027            0.053325   \n",
              "1           0.082622           0.052736            0.053709   \n",
              "2           0.083526           0.053068            0.053903   \n",
              "3           0.084712           0.053435            0.054161   \n",
              "4           0.088209           0.054513            0.054937   \n",
              "\n",
              "   XLB_lower_BBbands  XLK_upper_BBbands  XLK_middle_BBbands  \\\n",
              "0           0.057538           0.301097            0.299773   \n",
              "1           0.057573           0.307984            0.304480   \n",
              "2           0.057618           0.319048            0.310263   \n",
              "3           0.057757           0.325430            0.315870   \n",
              "4           0.058197           0.325119            0.321046   \n",
              "\n",
              "   XLK_lower_BBbands  XLU_upper_BBbands  XLU_middle_BBbands  XLU_lower_BBbands  \n",
              "0           0.297584           0.088060            0.088364           0.093784  \n",
              "1           0.299967           0.088471            0.088110           0.092858  \n",
              "2           0.300245           0.089128            0.088461           0.092895  \n",
              "3           0.304943           0.090439            0.089467           0.093583  \n",
              "4           0.315601           0.094309            0.091629           0.093992  \n",
              "\n",
              "[5 rows x 54 columns]"
            ]
          },
          "metadata": {
            "tags": []
          },
          "execution_count": 215
        }
      ]
    },
    {
      "metadata": {
        "id": "JVTwsiB8htYN",
        "colab_type": "text"
      },
      "cell_type": "markdown",
      "source": [
        "## Final Check for Null Values"
      ]
    },
    {
      "metadata": {
        "id": "qyn0Mp3Xhl27",
        "colab_type": "code",
        "colab": {
          "base_uri": "https://localhost:8080/",
          "height": 1005
        },
        "outputId": "9f7b12c5-794d-40f7-ceea-e421497a7d49"
      },
      "cell_type": "code",
      "source": [
        "missing_values_count = df.isnull().sum()\n",
        "print(missing_values_count)"
      ],
      "execution_count": 217,
      "outputs": [
        {
          "output_type": "stream",
          "text": [
            "XLP_returns                 0\n",
            "XLY_returns                 0\n",
            "XLE_returns                 0\n",
            "XLF_returns                 0\n",
            "XLV_returns                 0\n",
            "XLI_returns                 0\n",
            "XLB_returns                 0\n",
            "XLK_returns                 0\n",
            "XLU_returns                 0\n",
            "max_next_day                0\n",
            "labelencode_max_next_day    0\n",
            "XLP_arima                   0\n",
            "XLY_arima                   0\n",
            "XLE_arima                   0\n",
            "XLF_arima                   0\n",
            "XLV_arima                   0\n",
            "XLI_arima                   0\n",
            "XLB_arima                   0\n",
            "XLK_arima                   0\n",
            "XLU_arima                   0\n",
            "XLP_SMA                     0\n",
            "XLY_SMA                     0\n",
            "XLE_SMA                     0\n",
            "XLF_SMA                     0\n",
            "XLV_SMA                     0\n",
            "XLI_SMA                     0\n",
            "XLB_SMA                     0\n",
            "XLK_SMA                     0\n",
            "XLU_SMA                     0\n",
            "XLP_upper_BBbands           0\n",
            "XLP_middle_BBbands          0\n",
            "XLP_lower_BBbands           0\n",
            "XLY_upper_BBbands           0\n",
            "XLY_middle_BBbands          0\n",
            "XLY_lower_BBbands           0\n",
            "XLE_upper_BBbands           0\n",
            "XLE_middle_BBbands          0\n",
            "XLE_lower_BBbands           0\n",
            "XLF_upper_BBbands           0\n",
            "XLF_middle_BBbands          0\n",
            "XLF_lower_BBbands           0\n",
            "XLV_upper_BBbands           0\n",
            "XLV_middle_BBbands          0\n",
            "XLV_lower_BBbands           0\n",
            "XLI_upper_BBbands           0\n",
            "XLI_middle_BBbands          0\n",
            "XLI_lower_BBbands           0\n",
            "XLB_upper_BBbands           0\n",
            "XLB_middle_BBbands          0\n",
            "XLB_lower_BBbands           0\n",
            "XLK_upper_BBbands           0\n",
            "XLK_middle_BBbands          0\n",
            "XLK_lower_BBbands           0\n",
            "XLU_upper_BBbands           0\n",
            "XLU_middle_BBbands          0\n",
            "XLU_lower_BBbands           0\n",
            "dtype: int64\n"
          ],
          "name": "stdout"
        }
      ]
    },
    {
      "metadata": {
        "id": "DKW7QO1rA3RL",
        "colab_type": "text"
      },
      "cell_type": "markdown",
      "source": [
        "## Split Testing and Training Set "
      ]
    },
    {
      "metadata": {
        "id": "9qiyVjPjUgjb",
        "colab_type": "code",
        "colab": {}
      },
      "cell_type": "code",
      "source": [
        "#Split Test and Train set\n",
        "\n",
        "x_train, x_test, y_train, y_test = train_test_split(x, y, test_size=0.33, random_state=42)"
      ],
      "execution_count": 0,
      "outputs": []
    },
    {
      "metadata": {
        "id": "yxUqrxfVV5Qk",
        "colab_type": "text"
      },
      "cell_type": "markdown",
      "source": [
        "# Training models"
      ]
    },
    {
      "metadata": {
        "id": "wfJ6VEEsZMPJ",
        "colab_type": "code",
        "colab": {}
      },
      "cell_type": "code",
      "source": [
        "from sklearn import svm\n",
        "from sklearn.linear_model import LinearRegression\n",
        "from sklearn.ensemble import RandomForestClassifier"
      ],
      "execution_count": 0,
      "outputs": []
    },
    {
      "metadata": {
        "id": "yzb9NDNeV8fa",
        "colab_type": "code",
        "outputId": "195e3099-2067-4599-c138-d303903f9252",
        "colab": {
          "base_uri": "https://localhost:8080/",
          "height": 35
        }
      },
      "cell_type": "code",
      "source": [
        "#SVM\n",
        "clf1 = svm.SVC(gamma='scale')\n",
        "clf1.fit(x_train, y_train)\n",
        "clf1_predictions = clf1.predict(x_test)\n",
        "print(clf1.score(x_test, y_test))"
      ],
      "execution_count": 220,
      "outputs": [
        {
          "output_type": "stream",
          "text": [
            "0.23359422034918723\n"
          ],
          "name": "stdout"
        }
      ]
    },
    {
      "metadata": {
        "id": "ggIpoYNXWBZ5",
        "colab_type": "code",
        "outputId": "936a8a10-507f-4ecd-e94c-87377c587c5e",
        "colab": {
          "base_uri": "https://localhost:8080/",
          "height": 35
        }
      },
      "cell_type": "code",
      "source": [
        "#Random Forest\n",
        "clf2 = RandomForestClassifier(n_estimators=100, random_state=0)\n",
        "clf2.fit(x_train, y_train)\n",
        "clf2_predictions = clf2.predict(x_test)\n",
        "print(clf2.score(x_test, y_test))"
      ],
      "execution_count": 221,
      "outputs": [
        {
          "output_type": "stream",
          "text": [
            "0.1715833835039133\n"
          ],
          "name": "stdout"
        }
      ]
    },
    {
      "metadata": {
        "id": "iIJjfRKwWC6B",
        "colab_type": "code",
        "outputId": "16a27328-accb-4259-e243-5b7aea28c57c",
        "colab": {
          "base_uri": "https://localhost:8080/",
          "height": 35
        }
      },
      "cell_type": "code",
      "source": [
        "#Regression\n",
        "clf3 = LinearRegression()\n",
        "clf3.fit(x_train, y_train)\n",
        "clf3_predictions = clf3.predict(x_test)\n",
        "clf3_predictions = np.rint(clf3_predictions)\n",
        "clf3_predictions = clf3_predictions.astype(int)\n",
        "print(clf3.score(x_test, y_test))"
      ],
      "execution_count": 222,
      "outputs": [
        {
          "output_type": "stream",
          "text": [
            "0.009140405206318647\n"
          ],
          "name": "stdout"
        }
      ]
    },
    {
      "metadata": {
        "id": "atlayMgQ65T6",
        "colab_type": "code",
        "outputId": "358f7940-100e-4404-e3d1-c0202bbac795",
        "colab": {
          "base_uri": "https://localhost:8080/",
          "height": 35
        }
      },
      "cell_type": "code",
      "source": [
        "clf3_predictions"
      ],
      "execution_count": 223,
      "outputs": [
        {
          "output_type": "execute_result",
          "data": {
            "text/plain": [
              "array([4, 3, 4, ..., 4, 3, 3])"
            ]
          },
          "metadata": {
            "tags": []
          },
          "execution_count": 223
        }
      ]
    },
    {
      "metadata": {
        "id": "qTVT4gaE3NZ3",
        "colab_type": "code",
        "outputId": "8ed480b1-1087-41e1-f4eb-1363d7891d4c",
        "colab": {
          "base_uri": "https://localhost:8080/",
          "height": 202
        }
      },
      "cell_type": "code",
      "source": [
        "clf1_predictions_reshaped = clf1_predictions.reshape(-1,1)\n",
        "df_predictions = pd.DataFrame(clf1_predictions_reshaped, columns=['clf1'])\n",
        "\n",
        "clf2_predictions_reshaped = clf2_predictions.reshape(-1,1)\n",
        "df_predictions['clf2'] = clf2_predictions_reshaped\n",
        "\n",
        "clf3_predictions_reshaped = clf3_predictions.reshape(-1,1)\n",
        "df_predictions['clf3'] = clf3_predictions_reshaped\n",
        "\n",
        "df_predictions.head()"
      ],
      "execution_count": 224,
      "outputs": [
        {
          "output_type": "execute_result",
          "data": {
            "text/html": [
              "<div>\n",
              "<style scoped>\n",
              "    .dataframe tbody tr th:only-of-type {\n",
              "        vertical-align: middle;\n",
              "    }\n",
              "\n",
              "    .dataframe tbody tr th {\n",
              "        vertical-align: top;\n",
              "    }\n",
              "\n",
              "    .dataframe thead th {\n",
              "        text-align: right;\n",
              "    }\n",
              "</style>\n",
              "<table border=\"1\" class=\"dataframe\">\n",
              "  <thead>\n",
              "    <tr style=\"text-align: right;\">\n",
              "      <th></th>\n",
              "      <th>clf1</th>\n",
              "      <th>clf2</th>\n",
              "      <th>clf3</th>\n",
              "    </tr>\n",
              "  </thead>\n",
              "  <tbody>\n",
              "    <tr>\n",
              "      <th>0</th>\n",
              "      <td>6</td>\n",
              "      <td>6</td>\n",
              "      <td>4</td>\n",
              "    </tr>\n",
              "    <tr>\n",
              "      <th>1</th>\n",
              "      <td>1</td>\n",
              "      <td>6</td>\n",
              "      <td>3</td>\n",
              "    </tr>\n",
              "    <tr>\n",
              "      <th>2</th>\n",
              "      <td>6</td>\n",
              "      <td>4</td>\n",
              "      <td>4</td>\n",
              "    </tr>\n",
              "    <tr>\n",
              "      <th>3</th>\n",
              "      <td>6</td>\n",
              "      <td>1</td>\n",
              "      <td>3</td>\n",
              "    </tr>\n",
              "    <tr>\n",
              "      <th>4</th>\n",
              "      <td>2</td>\n",
              "      <td>6</td>\n",
              "      <td>4</td>\n",
              "    </tr>\n",
              "  </tbody>\n",
              "</table>\n",
              "</div>"
            ],
            "text/plain": [
              "   clf1  clf2  clf3\n",
              "0     6     6     4\n",
              "1     1     6     3\n",
              "2     6     4     4\n",
              "3     6     1     3\n",
              "4     2     6     4"
            ]
          },
          "metadata": {
            "tags": []
          },
          "execution_count": 224
        }
      ]
    },
    {
      "metadata": {
        "id": "CKHXPyG6WJTz",
        "colab_type": "text"
      },
      "cell_type": "markdown",
      "source": [
        "#Stacking Training"
      ]
    },
    {
      "metadata": {
        "id": "d35CRNG4bxSP",
        "colab_type": "code",
        "colab": {}
      },
      "cell_type": "code",
      "source": [
        "from sklearn.neural_network import MLPClassifier"
      ],
      "execution_count": 0,
      "outputs": []
    },
    {
      "metadata": {
        "id": "5Qws90utWMYA",
        "colab_type": "code",
        "outputId": "b5fefcf4-bff7-40b1-9dd0-66482985bba2",
        "colab": {
          "base_uri": "https://localhost:8080/",
          "height": 35
        }
      },
      "cell_type": "code",
      "source": [
        "#Neural Networking Stacking Model\n",
        "clf4 = MLPClassifier(hidden_layer_sizes=100, solver='sgd', learning_rate='adaptive') #adaptive only for sgd\n",
        "clf4.fit(df_predictions, y_test)\n",
        "\n",
        "print(clf4.score(df_predictions, y_test))"
      ],
      "execution_count": 226,
      "outputs": [
        {
          "output_type": "stream",
          "text": [
            "0.22456351595424442\n"
          ],
          "name": "stdout"
        }
      ]
    },
    {
      "metadata": {
        "id": "jSN6ySbQWS_M",
        "colab_type": "text"
      },
      "cell_type": "markdown",
      "source": [
        "#Testing of Models"
      ]
    },
    {
      "metadata": {
        "id": "8zOJ5itfWU--",
        "colab_type": "code",
        "outputId": "4f8ca7a1-be6a-456a-965a-44c4a6bfa972",
        "colab": {
          "base_uri": "https://localhost:8080/",
          "height": 87
        }
      },
      "cell_type": "code",
      "source": [
        "#Test Score\n",
        "print('Test score for clf1: ' + str(clf1.score(x_test, y_test)))\n",
        "print('Test score for clf2: ' + str(clf2.score(x_test, y_test)))\n",
        "print('Test score for clf3: ' + str(clf3.score(x_test, y_test)))\n",
        "print('Test score for clf4: ' + str(clf4.score(df_predictions, y_test)))\n"
      ],
      "execution_count": 227,
      "outputs": [
        {
          "output_type": "stream",
          "text": [
            "Test score for clf1: 0.23359422034918723\n",
            "Test score for clf2: 0.1715833835039133\n",
            "Test score for clf3: 0.009140405206318647\n",
            "Test score for clf4: 0.22456351595424442\n"
          ],
          "name": "stdout"
        }
      ]
    },
    {
      "metadata": {
        "id": "InvpZg6eJNT-",
        "colab_type": "text"
      },
      "cell_type": "markdown",
      "source": [
        "# Post-Analysis"
      ]
    },
    {
      "metadata": {
        "id": "xSDB1978Jblz",
        "colab_type": "code",
        "outputId": "aadcd55d-5069-4252-c632-f5e9beec3d4f",
        "colab": {
          "base_uri": "https://localhost:8080/",
          "height": 953
        }
      },
      "cell_type": "code",
      "source": [
        "#Find best feature for Random Forest \n",
        "importances = clf2.feature_importances_\n",
        "indices = range(0, len(importances))\n",
        "\n",
        "for i in range(0,len(importances)):\n",
        "  print(str(x.columns[i]) +' importances: ' + str(importances[i]))"
      ],
      "execution_count": 228,
      "outputs": [
        {
          "output_type": "stream",
          "text": [
            "XLP_returns importances: 0.02951654109619871\n",
            "XLY_returns importances: 0.027575314292705815\n",
            "XLE_returns importances: 0.03185033340003823\n",
            "XLF_returns importances: 0.02887884166131198\n",
            "XLV_returns importances: 0.03010945795123174\n",
            "XLI_returns importances: 0.026867332571627666\n",
            "XLB_returns importances: 0.02797586491849229\n",
            "XLK_returns importances: 0.02856222107567397\n",
            "XLU_returns importances: 0.02962848098755018\n",
            "XLP_arima importances: 0.011002034505062095\n",
            "XLY_arima importances: 0.011482158240434208\n",
            "XLE_arima importances: 0.010870076132332058\n",
            "XLF_arima importances: 0.011426866682517243\n",
            "XLV_arima importances: 0.011220930779703129\n",
            "XLI_arima importances: 0.011461163349830338\n",
            "XLB_arima importances: 0.010038114076441782\n",
            "XLK_arima importances: 0.011650937350583661\n",
            "XLU_arima importances: 0.011062849035460821\n",
            "XLP_SMA importances: 0.015197465775655563\n",
            "XLY_SMA importances: 0.016689543321965816\n",
            "XLE_SMA importances: 0.018641461641786948\n",
            "XLF_SMA importances: 0.018017744168566937\n",
            "XLV_SMA importances: 0.01674363802003974\n",
            "XLI_SMA importances: 0.015162323001848652\n",
            "XLB_SMA importances: 0.01564955484398016\n",
            "XLK_SMA importances: 0.015870293375156667\n",
            "XLU_SMA importances: 0.01646865357237697\n",
            "XLP_upper_BBbands importances: 0.017755187551720775\n",
            "XLP_middle_BBbands importances: 0.01717152209535917\n",
            "XLP_lower_BBbands importances: 0.018657184503960964\n",
            "XLY_upper_BBbands importances: 0.017294307261548462\n",
            "XLY_middle_BBbands importances: 0.01636149015182926\n",
            "XLY_lower_BBbands importances: 0.017231306715030134\n",
            "XLE_upper_BBbands importances: 0.01948826821208535\n",
            "XLE_middle_BBbands importances: 0.020107063098406056\n",
            "XLE_lower_BBbands importances: 0.02058181499808159\n",
            "XLF_upper_BBbands importances: 0.019637284817382136\n",
            "XLF_middle_BBbands importances: 0.018377745985997885\n",
            "XLF_lower_BBbands importances: 0.019176098025123\n",
            "XLV_upper_BBbands importances: 0.019236768920018295\n",
            "XLV_middle_BBbands importances: 0.017856722217144315\n",
            "XLV_lower_BBbands importances: 0.018807533836062373\n",
            "XLI_upper_BBbands importances: 0.017581025398854526\n",
            "XLI_middle_BBbands importances: 0.016021986831732126\n",
            "XLI_lower_BBbands importances: 0.018294078645099535\n",
            "XLB_upper_BBbands importances: 0.01831547459956873\n",
            "XLB_middle_BBbands importances: 0.01774425666566702\n",
            "XLB_lower_BBbands importances: 0.018271559191647687\n",
            "XLK_upper_BBbands importances: 0.01720596702554484\n",
            "XLK_middle_BBbands importances: 0.015303047268586329\n",
            "XLK_lower_BBbands importances: 0.018454817428944347\n",
            "XLU_upper_BBbands importances: 0.01866608033766454\n",
            "XLU_middle_BBbands importances: 0.017761197134729827\n",
            "XLU_lower_BBbands importances: 0.019020015253637394\n"
          ],
          "name": "stdout"
        }
      ]
    },
    {
      "metadata": {
        "id": "OodZX-YYgSAn",
        "colab_type": "code",
        "colab": {
          "base_uri": "https://localhost:8080/",
          "height": 281
        },
        "outputId": "7f712103-d90e-470c-c557-c5dffc43b730"
      },
      "cell_type": "code",
      "source": [
        "# Plot the feature importances of the forest\n",
        "features = x.columns\n",
        "plt.figure()\n",
        "plt.title(\"Feature importances\")\n",
        "plt.bar (indices, importances)\n",
        "plt.show()"
      ],
      "execution_count": 229,
      "outputs": [
        {
          "output_type": "display_data",
          "data": {
            "image/png": "[encoded data removed]",
            "text/plain": [
              "<Figure size 432x288 with 1 Axes>"
            ]
          },
          "metadata": {
            "tags": []
          }
        }
      ]
    },
    {
      "metadata": {
        "id": "VueWg2qR99KL",
        "colab_type": "code",
        "outputId": "e93c3001-37a7-46ff-df54-a82666dee7a4",
        "colab": {
          "base_uri": "https://localhost:8080/",
          "height": 35
        }
      },
      "cell_type": "code",
      "source": [
        "#Max importance\n",
        "max_importance = 0\n",
        "\n",
        "for i in range(0,len(importances)):\n",
        "  if importances[i] >= importances[max_importance]:\n",
        "    max_importance = i\n",
        "print('Most important feature is: ' + str(x.columns[max_importance]))"
      ],
      "execution_count": 230,
      "outputs": [
        {
          "output_type": "stream",
          "text": [
            "Most important feature is: XLE_returns\n"
          ],
          "name": "stdout"
        }
      ]
    },
    {
      "metadata": {
        "id": "R4b5hZ63XX5R",
        "colab_type": "text"
      },
      "cell_type": "markdown",
      "source": [
        "# Export Model"
      ]
    },
    {
      "metadata": {
        "id": "VzSz0gzwXaIN",
        "colab_type": "code",
        "colab": {}
      },
      "cell_type": "code",
      "source": [
        "#Save Model\n",
        "\n",
        "#Export Model\n",
        "#Run for google, otherwise comment this and run below\n",
        "\n",
        "# from google.colab import drive\n",
        "# drive.mount('/content/gdrive')\n",
        "# result.to_csv(\"/content/gdrive/My Drive/Colab Notebooks/submission_file.csv\", index=False)\n",
        "\n",
        "# #Run for local machine\n",
        "# result.to_csv(\"./submission_file.csv\", index=False)"
      ],
      "execution_count": 0,
      "outputs": []
    },
    {
      "metadata": {
        "id": "MgPoD2UPWS92",
        "colab_type": "text"
      },
      "cell_type": "markdown",
      "source": [
        ""
      ]
    }
  ]
}