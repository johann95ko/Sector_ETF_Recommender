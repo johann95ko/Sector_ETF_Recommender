{
  "nbformat": 4,
  "nbformat_minor": 0,
  "metadata": {
    "colab": {
      "name": "SectorRecommender.ipynb",
      "version": "0.3.2",
      "provenance": [],
      "collapsed_sections": []
    },
    "kernelspec": {
      "name": "python3",
      "display_name": "Python 3"
    }
  },
  "cells": [
    {
      "cell_type": "markdown",
      "metadata": {
        "id": "6WJ-woq-WjPo",
        "colab_type": "text"
      },
      "source": [
        "# Sector ETFs Recommender System\n",
        "###Objective: To train a stacking machine learning model that can predict whether the Sector ETF will be in the 50th percentile in next-day's return. \n",
        "### Members: Johann Ko, Yuen Jing Wen, Kan Zi Jun"
      ]
    },
    {
      "cell_type": "code",
      "metadata": {
        "id": "a-D2W9ujeBcp",
        "colab_type": "code",
        "colab": {}
      },
      "source": [
        "#Dependencies\n",
        "import pandas as pd\n",
        "import numpy as np\n",
        "import matplotlib.pyplot as plt\n",
        "from pandas_datareader import data as pdr\n",
        "import fix_yahoo_finance\n",
        "import datetime\n",
        "import cvxpy as cp\n",
        "\n",
        "from sklearn.preprocessing import StandardScaler, MinMaxScaler\n",
        "from sklearn.pipeline import Pipeline\n",
        "from sklearn.metrics import accuracy_score\n",
        "from sklearn.model_selection import train_test_split\n",
        "import warnings\n",
        "warnings.filterwarnings(\"ignore\")"
      ],
      "execution_count": 0,
      "outputs": []
    },
    {
      "cell_type": "markdown",
      "metadata": {
        "id": "ceeqSmdlR-w-",
        "colab_type": "text"
      },
      "source": [
        "# Inputs"
      ]
    },
    {
      "cell_type": "markdown",
      "metadata": {
        "id": "0naxs2oUUJaR",
        "colab_type": "text"
      },
      "source": [
        "### We select the oldest set of Sector ETFs:\n",
        "* SPDR Consumer Staples ETF (XLP) 1998-12-16\n",
        "* SPDR Consumer Discretionary ETF (XLY) 1998-12-16\n",
        "* SPDR Energy ETF (XLE) 1998-12-16\n",
        "* SPDR Financials ETF (XLF) 1998-12-16\n",
        "* SPDR Health Care ETF (XLV) 1998-12-16\n",
        "* SPDR Industrial ETF (XLI) 1998-12-16\n",
        "* SPDR Materials ETF (XLB) 1998-12-16\n",
        "* SPDR Technology ETF (XLK) 1998-12-16\n",
        "* SPDR Utilities ETF (XLU) 1998-12-16\n",
        "\n",
        "\n",
        "---\n",
        "\n",
        "\n",
        "### Excluded:\n",
        "* SPDR Telecommunication Services ETF (XLC) 2018-06-18\n",
        "* SPDR Real Estate ETF (XLRE) 2015-10-07"
      ]
    },
    {
      "cell_type": "markdown",
      "metadata": {
        "id": "z75jpCT3GSe_",
        "colab_type": "text"
      },
      "source": [
        "Note: Due to the relative infancy of Sector ETF concept, our dataset is limited and recent."
      ]
    },
    {
      "cell_type": "code",
      "metadata": {
        "id": "Uz9bDpwsSCgz",
        "colab_type": "code",
        "colab": {}
      },
      "source": [
        "#Input Sector ETF Tickers\n",
        "tickers = ['XLP', 'XLY', 'XLE', 'XLF', 'XLV', 'XLI', 'XLB', 'XLK', 'XLU']\n",
        "PERCENTILE = 50\n",
        "\n",
        "#User input\n",
        "TICKER_OF_INTEREST = 'XLI'"
      ],
      "execution_count": 0,
      "outputs": []
    },
    {
      "cell_type": "code",
      "metadata": {
        "id": "BmFSHS2aS2fV",
        "colab_type": "code",
        "colab": {}
      },
      "source": [
        "#Input dates\n",
        "startdate = datetime.datetime(1999, 3, 31)\n",
        "enddate =  datetime.datetime(2019, 4, 1)\n",
        "\n",
        "#Extra data for Arima model\n",
        "arima_startdate = datetime.datetime(1998, 12, 17)\n",
        "arima_enddate = datetime.datetime(1999, 3, 30)\n",
        "\n",
        "#Extra data\n",
        "extra_startdate = datetime.datetime(1998, 12, 18)\n",
        "extra_enddate =  datetime.datetime(1999, 3, 30)"
      ],
      "execution_count": 0,
      "outputs": []
    },
    {
      "cell_type": "markdown",
      "metadata": {
        "id": "kTxGegWZT6yq",
        "colab_type": "text"
      },
      "source": [
        "# Data Retrieval"
      ]
    },
    {
      "cell_type": "code",
      "metadata": {
        "id": "CKqL4S2nT2Wm",
        "colab_type": "code",
        "colab": {}
      },
      "source": [
        "#Retrieve prices\n",
        "prices_dict = {}\n",
        "volumes_dict = {}\n",
        "for ticker in tickers:\n",
        "    ticker_prices = pdr.get_data_yahoo(ticker, startdate, enddate)\n",
        "    prices_dict[ticker] = ticker_prices['Adj Close']\n",
        "    volumes_dict[ticker] = ticker_prices['Volume']\n",
        "    \n",
        "\n",
        "#Returns\n",
        "prices = pd.DataFrame(prices_dict)\n",
        "returns = prices.pct_change().dropna()\n",
        "\n",
        "#Volume\n",
        "volumes = pd.DataFrame(volumes_dict)"
      ],
      "execution_count": 0,
      "outputs": []
    },
    {
      "cell_type": "code",
      "metadata": {
        "id": "srU3n7Y8pb2r",
        "colab_type": "code",
        "outputId": "83b6adc5-970c-4b04-eeb8-adb152c6c997",
        "colab": {
          "base_uri": "https://localhost:8080/",
          "height": 277
        }
      },
      "source": [
        "print(prices.head())"
      ],
      "execution_count": 0,
      "outputs": [
        {
          "output_type": "stream",
          "text": [
            "                  XLP        XLY        XLE        XLF        XLV        XLI  \\\n",
            "Date                                                                           \n",
            "1999-03-31  16.842590  22.464611  16.717981  10.358640  21.179268  17.391840   \n",
            "1999-04-01  16.872454  22.440058  16.696735  10.384600  21.179268  17.577068   \n",
            "1999-04-05  16.962038  22.734673  17.100344  10.592298  21.652006  17.958490   \n",
            "1999-04-06  16.772900  22.857431  16.930399  10.514409  21.675617  17.860359   \n",
            "1999-04-07  16.753000  23.053844  16.760468  10.799989  22.089293  17.893078   \n",
            "\n",
            "                  XLB        XLK        XLU  \n",
            "Date                                         \n",
            "1999-03-31  13.812929  28.989637  13.063733  \n",
            "1999-04-01  13.971704  29.447622  13.339084  \n",
            "1999-04-05  14.140392  30.462664  13.446134  \n",
            "1999-04-06  13.892311  30.722591  13.377311  \n",
            "1999-04-07  14.041169  30.648363  13.553245  \n"
          ],
          "name": "stdout"
        }
      ]
    },
    {
      "cell_type": "code",
      "metadata": {
        "id": "d_TjlacPi_gQ",
        "colab_type": "code",
        "outputId": "ac5ecca5-da1a-4481-845d-ea60b8656a8f",
        "colab": {
          "base_uri": "https://localhost:8080/",
          "height": 277
        }
      },
      "source": [
        "#5032 rows\n",
        "print(returns.head())\n"
      ],
      "execution_count": 0,
      "outputs": [
        {
          "output_type": "stream",
          "text": [
            "                 XLP       XLY       XLE       XLF       XLV       XLI  \\\n",
            "Date                                                                     \n",
            "1999-04-01  0.001773 -0.001093 -0.001271  0.002506  0.000000  0.010650   \n",
            "1999-04-05  0.005310  0.013129  0.024173  0.020001  0.022321  0.021700   \n",
            "1999-04-06 -0.011151  0.005400 -0.009938 -0.007353  0.001090 -0.005464   \n",
            "1999-04-07 -0.001186  0.008593 -0.010037  0.027161  0.019085  0.001832   \n",
            "1999-04-08  0.023173  0.022364  0.010139  0.018027  0.010167  0.005480   \n",
            "\n",
            "                 XLB       XLK       XLU  \n",
            "Date                                      \n",
            "1999-04-01  0.011495  0.015798  0.021077  \n",
            "1999-04-05  0.012074  0.034469  0.008025  \n",
            "1999-04-06 -0.017544  0.008533 -0.005118  \n",
            "1999-04-07  0.010715 -0.002416  0.013152  \n",
            "1999-04-08  0.014134  0.009693  0.026521  \n"
          ],
          "name": "stdout"
        }
      ]
    },
    {
      "cell_type": "code",
      "metadata": {
        "id": "U9Bfe6ZVwVbB",
        "colab_type": "code",
        "outputId": "3e68c5bf-b18c-4ea9-c448-9871730b7f80",
        "colab": {
          "base_uri": "https://localhost:8080/",
          "height": 1979
        }
      },
      "source": [
        "returns"
      ],
      "execution_count": 0,
      "outputs": [
        {
          "output_type": "execute_result",
          "data": {
            "text/html": [
              "<div>\n",
              "<style scoped>\n",
              "    .dataframe tbody tr th:only-of-type {\n",
              "        vertical-align: middle;\n",
              "    }\n",
              "\n",
              "    .dataframe tbody tr th {\n",
              "        vertical-align: top;\n",
              "    }\n",
              "\n",
              "    .dataframe thead th {\n",
              "        text-align: right;\n",
              "    }\n",
              "</style>\n",
              "<table border=\"1\" class=\"dataframe\">\n",
              "  <thead>\n",
              "    <tr style=\"text-align: right;\">\n",
              "      <th></th>\n",
              "      <th>XLP</th>\n",
              "      <th>XLY</th>\n",
              "      <th>XLE</th>\n",
              "      <th>XLF</th>\n",
              "      <th>XLV</th>\n",
              "      <th>XLI</th>\n",
              "      <th>XLB</th>\n",
              "      <th>XLK</th>\n",
              "      <th>XLU</th>\n",
              "    </tr>\n",
              "    <tr>\n",
              "      <th>Date</th>\n",
              "      <th></th>\n",
              "      <th></th>\n",
              "      <th></th>\n",
              "      <th></th>\n",
              "      <th></th>\n",
              "      <th></th>\n",
              "      <th></th>\n",
              "      <th></th>\n",
              "      <th></th>\n",
              "    </tr>\n",
              "  </thead>\n",
              "  <tbody>\n",
              "    <tr>\n",
              "      <th>1999-04-01</th>\n",
              "      <td>0.001773</td>\n",
              "      <td>-0.001093</td>\n",
              "      <td>-0.001271</td>\n",
              "      <td>0.002506</td>\n",
              "      <td>0.000000</td>\n",
              "      <td>0.010650</td>\n",
              "      <td>0.011495</td>\n",
              "      <td>0.015798</td>\n",
              "      <td>0.021077</td>\n",
              "    </tr>\n",
              "    <tr>\n",
              "      <th>1999-04-05</th>\n",
              "      <td>0.005310</td>\n",
              "      <td>0.013129</td>\n",
              "      <td>0.024173</td>\n",
              "      <td>0.020001</td>\n",
              "      <td>0.022321</td>\n",
              "      <td>0.021700</td>\n",
              "      <td>0.012074</td>\n",
              "      <td>0.034469</td>\n",
              "      <td>0.008025</td>\n",
              "    </tr>\n",
              "    <tr>\n",
              "      <th>1999-04-06</th>\n",
              "      <td>-0.011151</td>\n",
              "      <td>0.005400</td>\n",
              "      <td>-0.009938</td>\n",
              "      <td>-0.007353</td>\n",
              "      <td>0.001090</td>\n",
              "      <td>-0.005464</td>\n",
              "      <td>-0.017544</td>\n",
              "      <td>0.008533</td>\n",
              "      <td>-0.005118</td>\n",
              "    </tr>\n",
              "    <tr>\n",
              "      <th>1999-04-07</th>\n",
              "      <td>-0.001186</td>\n",
              "      <td>0.008593</td>\n",
              "      <td>-0.010037</td>\n",
              "      <td>0.027161</td>\n",
              "      <td>0.019085</td>\n",
              "      <td>0.001832</td>\n",
              "      <td>0.010715</td>\n",
              "      <td>-0.002416</td>\n",
              "      <td>0.013152</td>\n",
              "    </tr>\n",
              "    <tr>\n",
              "      <th>1999-04-08</th>\n",
              "      <td>0.023173</td>\n",
              "      <td>0.022364</td>\n",
              "      <td>0.010139</td>\n",
              "      <td>0.018027</td>\n",
              "      <td>0.010167</td>\n",
              "      <td>0.005480</td>\n",
              "      <td>0.014134</td>\n",
              "      <td>0.009693</td>\n",
              "      <td>0.026521</td>\n",
              "    </tr>\n",
              "    <tr>\n",
              "      <th>1999-04-09</th>\n",
              "      <td>0.002323</td>\n",
              "      <td>0.009375</td>\n",
              "      <td>0.018820</td>\n",
              "      <td>-0.002361</td>\n",
              "      <td>0.003176</td>\n",
              "      <td>0.000608</td>\n",
              "      <td>-0.004878</td>\n",
              "      <td>-0.001600</td>\n",
              "      <td>-0.007146</td>\n",
              "    </tr>\n",
              "    <tr>\n",
              "      <th>1999-04-12</th>\n",
              "      <td>0.016802</td>\n",
              "      <td>0.008256</td>\n",
              "      <td>0.007390</td>\n",
              "      <td>0.017754</td>\n",
              "      <td>0.025344</td>\n",
              "      <td>0.024213</td>\n",
              "      <td>0.029411</td>\n",
              "      <td>-0.015226</td>\n",
              "      <td>0.014398</td>\n",
              "    </tr>\n",
              "    <tr>\n",
              "      <th>1999-04-13</th>\n",
              "      <td>0.003419</td>\n",
              "      <td>-0.005117</td>\n",
              "      <td>-0.001223</td>\n",
              "      <td>-0.001165</td>\n",
              "      <td>-0.010299</td>\n",
              "      <td>0.007682</td>\n",
              "      <td>0.012245</td>\n",
              "      <td>-0.015458</td>\n",
              "      <td>-0.016377</td>\n",
              "    </tr>\n",
              "    <tr>\n",
              "      <th>1999-04-14</th>\n",
              "      <td>-0.030097</td>\n",
              "      <td>-0.022633</td>\n",
              "      <td>-0.012240</td>\n",
              "      <td>-0.012803</td>\n",
              "      <td>-0.009363</td>\n",
              "      <td>0.021700</td>\n",
              "      <td>0.048387</td>\n",
              "      <td>-0.024793</td>\n",
              "      <td>-0.014427</td>\n",
              "    </tr>\n",
              "    <tr>\n",
              "      <th>1999-04-15</th>\n",
              "      <td>-0.024590</td>\n",
              "      <td>-0.002106</td>\n",
              "      <td>0.043370</td>\n",
              "      <td>-0.009434</td>\n",
              "      <td>-0.025210</td>\n",
              "      <td>0.025832</td>\n",
              "      <td>0.038461</td>\n",
              "      <td>0.008474</td>\n",
              "      <td>0.010133</td>\n",
              "    </tr>\n",
              "    <tr>\n",
              "      <th>1999-04-16</th>\n",
              "      <td>0.004202</td>\n",
              "      <td>0.003165</td>\n",
              "      <td>0.031472</td>\n",
              "      <td>-0.004761</td>\n",
              "      <td>-0.009700</td>\n",
              "      <td>0.005598</td>\n",
              "      <td>0.011112</td>\n",
              "      <td>-0.026891</td>\n",
              "      <td>0.011148</td>\n",
              "    </tr>\n",
              "    <tr>\n",
              "      <th>1999-04-19</th>\n",
              "      <td>-0.041841</td>\n",
              "      <td>-0.022082</td>\n",
              "      <td>0.012090</td>\n",
              "      <td>0.000000</td>\n",
              "      <td>-0.027202</td>\n",
              "      <td>0.008347</td>\n",
              "      <td>0.010378</td>\n",
              "      <td>-0.048359</td>\n",
              "      <td>0.009924</td>\n",
              "    </tr>\n",
              "    <tr>\n",
              "      <th>1999-04-20</th>\n",
              "      <td>0.018715</td>\n",
              "      <td>0.012903</td>\n",
              "      <td>-0.015927</td>\n",
              "      <td>0.013156</td>\n",
              "      <td>0.019014</td>\n",
              "      <td>-0.006622</td>\n",
              "      <td>-0.012085</td>\n",
              "      <td>0.025408</td>\n",
              "      <td>0.010917</td>\n",
              "    </tr>\n",
              "    <tr>\n",
              "      <th>1999-04-21</th>\n",
              "      <td>0.031843</td>\n",
              "      <td>0.016985</td>\n",
              "      <td>-0.015029</td>\n",
              "      <td>0.015350</td>\n",
              "      <td>0.023053</td>\n",
              "      <td>0.003332</td>\n",
              "      <td>0.004281</td>\n",
              "      <td>0.026549</td>\n",
              "      <td>0.017818</td>\n",
              "    </tr>\n",
              "    <tr>\n",
              "      <th>1999-04-22</th>\n",
              "      <td>0.012463</td>\n",
              "      <td>0.002609</td>\n",
              "      <td>0.017606</td>\n",
              "      <td>0.010463</td>\n",
              "      <td>0.020385</td>\n",
              "      <td>0.000552</td>\n",
              "      <td>-0.015834</td>\n",
              "      <td>0.046118</td>\n",
              "      <td>-0.003184</td>\n",
              "    </tr>\n",
              "    <tr>\n",
              "      <th>1999-04-23</th>\n",
              "      <td>-0.001758</td>\n",
              "      <td>0.010932</td>\n",
              "      <td>-0.012688</td>\n",
              "      <td>-0.003450</td>\n",
              "      <td>0.022608</td>\n",
              "      <td>0.007750</td>\n",
              "      <td>0.014851</td>\n",
              "      <td>0.002063</td>\n",
              "      <td>-0.000532</td>\n",
              "    </tr>\n",
              "    <tr>\n",
              "      <th>1999-04-26</th>\n",
              "      <td>-0.007046</td>\n",
              "      <td>-0.006179</td>\n",
              "      <td>-0.022196</td>\n",
              "      <td>-0.015013</td>\n",
              "      <td>-0.001543</td>\n",
              "      <td>-0.001100</td>\n",
              "      <td>-0.009755</td>\n",
              "      <td>0.025492</td>\n",
              "      <td>-0.005323</td>\n",
              "    </tr>\n",
              "    <tr>\n",
              "      <th>1999-04-27</th>\n",
              "      <td>0.001183</td>\n",
              "      <td>0.002590</td>\n",
              "      <td>0.031661</td>\n",
              "      <td>0.017587</td>\n",
              "      <td>0.001032</td>\n",
              "      <td>0.004950</td>\n",
              "      <td>0.019704</td>\n",
              "      <td>-0.024858</td>\n",
              "      <td>0.005886</td>\n",
              "    </tr>\n",
              "    <tr>\n",
              "      <th>1999-04-28</th>\n",
              "      <td>-0.014767</td>\n",
              "      <td>-0.003618</td>\n",
              "      <td>0.033005</td>\n",
              "      <td>-0.005762</td>\n",
              "      <td>-0.026749</td>\n",
              "      <td>0.012580</td>\n",
              "      <td>0.053140</td>\n",
              "      <td>-0.013158</td>\n",
              "      <td>-0.004258</td>\n",
              "    </tr>\n",
              "    <tr>\n",
              "      <th>1999-04-29</th>\n",
              "      <td>-0.007793</td>\n",
              "      <td>-0.022821</td>\n",
              "      <td>0.030269</td>\n",
              "      <td>0.003478</td>\n",
              "      <td>-0.011630</td>\n",
              "      <td>0.003782</td>\n",
              "      <td>0.007454</td>\n",
              "      <td>-0.010419</td>\n",
              "      <td>0.014432</td>\n",
              "    </tr>\n",
              "    <tr>\n",
              "      <th>1999-04-30</th>\n",
              "      <td>-0.013294</td>\n",
              "      <td>-0.003185</td>\n",
              "      <td>-0.016866</td>\n",
              "      <td>-0.013857</td>\n",
              "      <td>-0.007485</td>\n",
              "      <td>-0.011839</td>\n",
              "      <td>-0.011952</td>\n",
              "      <td>-0.007998</td>\n",
              "      <td>-0.013171</td>\n",
              "    </tr>\n",
              "    <tr>\n",
              "      <th>1999-05-03</th>\n",
              "      <td>0.023271</td>\n",
              "      <td>0.024494</td>\n",
              "      <td>0.024903</td>\n",
              "      <td>0.011709</td>\n",
              "      <td>0.019397</td>\n",
              "      <td>0.019608</td>\n",
              "      <td>0.023042</td>\n",
              "      <td>0.008489</td>\n",
              "      <td>0.014950</td>\n",
              "    </tr>\n",
              "    <tr>\n",
              "      <th>1999-05-04</th>\n",
              "      <td>-0.008379</td>\n",
              "      <td>-0.011435</td>\n",
              "      <td>0.001080</td>\n",
              "      <td>-0.031252</td>\n",
              "      <td>-0.019028</td>\n",
              "      <td>0.004274</td>\n",
              "      <td>-0.006194</td>\n",
              "      <td>-0.015152</td>\n",
              "      <td>-0.008417</td>\n",
              "    </tr>\n",
              "    <tr>\n",
              "      <th>1999-05-05</th>\n",
              "      <td>0.009656</td>\n",
              "      <td>-0.008412</td>\n",
              "      <td>-0.014563</td>\n",
              "      <td>0.005976</td>\n",
              "      <td>0.008621</td>\n",
              "      <td>0.000000</td>\n",
              "      <td>0.011899</td>\n",
              "      <td>0.020513</td>\n",
              "      <td>0.007959</td>\n",
              "    </tr>\n",
              "    <tr>\n",
              "      <th>1999-05-06</th>\n",
              "      <td>-0.013150</td>\n",
              "      <td>-0.022270</td>\n",
              "      <td>-0.002737</td>\n",
              "      <td>-0.016627</td>\n",
              "      <td>0.004273</td>\n",
              "      <td>0.002127</td>\n",
              "      <td>0.008399</td>\n",
              "      <td>-0.025126</td>\n",
              "      <td>-0.021053</td>\n",
              "    </tr>\n",
              "    <tr>\n",
              "      <th>1999-05-07</th>\n",
              "      <td>0.008479</td>\n",
              "      <td>0.022777</td>\n",
              "      <td>0.006037</td>\n",
              "      <td>0.019324</td>\n",
              "      <td>-0.003193</td>\n",
              "      <td>0.019108</td>\n",
              "      <td>0.002221</td>\n",
              "      <td>0.017182</td>\n",
              "      <td>0.012363</td>\n",
              "    </tr>\n",
              "    <tr>\n",
              "      <th>1999-05-10</th>\n",
              "      <td>-0.015615</td>\n",
              "      <td>-0.001060</td>\n",
              "      <td>-0.011456</td>\n",
              "      <td>-0.003556</td>\n",
              "      <td>-0.002134</td>\n",
              "      <td>-0.013543</td>\n",
              "      <td>-0.005540</td>\n",
              "      <td>0.008446</td>\n",
              "      <td>-0.002654</td>\n",
              "    </tr>\n",
              "    <tr>\n",
              "      <th>1999-05-11</th>\n",
              "      <td>0.004271</td>\n",
              "      <td>0.020170</td>\n",
              "      <td>0.003311</td>\n",
              "      <td>0.011890</td>\n",
              "      <td>0.016045</td>\n",
              "      <td>0.016895</td>\n",
              "      <td>-0.001672</td>\n",
              "      <td>0.015076</td>\n",
              "      <td>0.003728</td>\n",
              "    </tr>\n",
              "    <tr>\n",
              "      <th>1999-05-12</th>\n",
              "      <td>0.014580</td>\n",
              "      <td>0.006243</td>\n",
              "      <td>-0.018702</td>\n",
              "      <td>0.014102</td>\n",
              "      <td>0.009472</td>\n",
              "      <td>-0.009865</td>\n",
              "      <td>-0.025111</td>\n",
              "      <td>0.019802</td>\n",
              "      <td>0.002652</td>\n",
              "    </tr>\n",
              "    <tr>\n",
              "      <th>1999-05-13</th>\n",
              "      <td>0.004790</td>\n",
              "      <td>-0.005170</td>\n",
              "      <td>0.005045</td>\n",
              "      <td>0.009269</td>\n",
              "      <td>-0.006256</td>\n",
              "      <td>-0.009961</td>\n",
              "      <td>-0.004008</td>\n",
              "      <td>-0.002832</td>\n",
              "      <td>0.013226</td>\n",
              "    </tr>\n",
              "    <tr>\n",
              "      <th>...</th>\n",
              "      <td>...</td>\n",
              "      <td>...</td>\n",
              "      <td>...</td>\n",
              "      <td>...</td>\n",
              "      <td>...</td>\n",
              "      <td>...</td>\n",
              "      <td>...</td>\n",
              "      <td>...</td>\n",
              "      <td>...</td>\n",
              "    </tr>\n",
              "    <tr>\n",
              "      <th>2019-02-19</th>\n",
              "      <td>0.005152</td>\n",
              "      <td>0.004089</td>\n",
              "      <td>0.003025</td>\n",
              "      <td>0.001513</td>\n",
              "      <td>-0.002369</td>\n",
              "      <td>-0.000396</td>\n",
              "      <td>0.006241</td>\n",
              "      <td>0.000287</td>\n",
              "      <td>0.005924</td>\n",
              "    </tr>\n",
              "    <tr>\n",
              "      <th>2019-02-20</th>\n",
              "      <td>-0.001831</td>\n",
              "      <td>0.001991</td>\n",
              "      <td>0.004222</td>\n",
              "      <td>0.006422</td>\n",
              "      <td>-0.001187</td>\n",
              "      <td>0.004758</td>\n",
              "      <td>0.017147</td>\n",
              "      <td>0.001149</td>\n",
              "      <td>0.004461</td>\n",
              "    </tr>\n",
              "    <tr>\n",
              "      <th>2019-02-21</th>\n",
              "      <td>0.002934</td>\n",
              "      <td>-0.001987</td>\n",
              "      <td>-0.015465</td>\n",
              "      <td>-0.005255</td>\n",
              "      <td>-0.008755</td>\n",
              "      <td>-0.004078</td>\n",
              "      <td>-0.003945</td>\n",
              "      <td>0.000430</td>\n",
              "      <td>0.007284</td>\n",
              "    </tr>\n",
              "    <tr>\n",
              "      <th>2019-02-22</th>\n",
              "      <td>-0.004754</td>\n",
              "      <td>0.005429</td>\n",
              "      <td>0.002898</td>\n",
              "      <td>-0.001510</td>\n",
              "      <td>0.009159</td>\n",
              "      <td>0.006604</td>\n",
              "      <td>0.004321</td>\n",
              "      <td>0.012760</td>\n",
              "      <td>0.006173</td>\n",
              "    </tr>\n",
              "    <tr>\n",
              "      <th>2019-02-25</th>\n",
              "      <td>-0.005512</td>\n",
              "      <td>-0.003330</td>\n",
              "      <td>0.001673</td>\n",
              "      <td>0.004157</td>\n",
              "      <td>0.001405</td>\n",
              "      <td>0.003937</td>\n",
              "      <td>0.006454</td>\n",
              "      <td>0.004813</td>\n",
              "      <td>-0.006486</td>\n",
              "    </tr>\n",
              "    <tr>\n",
              "      <th>2019-02-26</th>\n",
              "      <td>0.000554</td>\n",
              "      <td>0.001355</td>\n",
              "      <td>-0.003188</td>\n",
              "      <td>-0.003011</td>\n",
              "      <td>-0.003561</td>\n",
              "      <td>-0.002745</td>\n",
              "      <td>-0.005700</td>\n",
              "      <td>0.002113</td>\n",
              "      <td>-0.001235</td>\n",
              "    </tr>\n",
              "    <tr>\n",
              "      <th>2019-02-27</th>\n",
              "      <td>-0.001477</td>\n",
              "      <td>-0.000721</td>\n",
              "      <td>0.003807</td>\n",
              "      <td>0.003775</td>\n",
              "      <td>-0.004656</td>\n",
              "      <td>0.003932</td>\n",
              "      <td>-0.001612</td>\n",
              "      <td>-0.000984</td>\n",
              "      <td>0.001236</td>\n",
              "    </tr>\n",
              "    <tr>\n",
              "      <th>2019-02-28</th>\n",
              "      <td>0.004808</td>\n",
              "      <td>-0.005415</td>\n",
              "      <td>-0.010014</td>\n",
              "      <td>-0.002633</td>\n",
              "      <td>-0.002937</td>\n",
              "      <td>-0.003394</td>\n",
              "      <td>-0.012202</td>\n",
              "      <td>-0.002815</td>\n",
              "      <td>0.005822</td>\n",
              "    </tr>\n",
              "    <tr>\n",
              "      <th>2019-03-01</th>\n",
              "      <td>-0.001840</td>\n",
              "      <td>0.008075</td>\n",
              "      <td>0.018391</td>\n",
              "      <td>0.006410</td>\n",
              "      <td>0.014184</td>\n",
              "      <td>0.000917</td>\n",
              "      <td>-0.001272</td>\n",
              "      <td>0.006774</td>\n",
              "      <td>0.002105</td>\n",
              "    </tr>\n",
              "    <tr>\n",
              "      <th>2019-03-04</th>\n",
              "      <td>-0.001659</td>\n",
              "      <td>-0.003150</td>\n",
              "      <td>0.001806</td>\n",
              "      <td>-0.006369</td>\n",
              "      <td>-0.013556</td>\n",
              "      <td>-0.004450</td>\n",
              "      <td>0.004547</td>\n",
              "      <td>-0.003785</td>\n",
              "      <td>0.001750</td>\n",
              "    </tr>\n",
              "    <tr>\n",
              "      <th>2019-03-05</th>\n",
              "      <td>-0.000739</td>\n",
              "      <td>0.002528</td>\n",
              "      <td>-0.003305</td>\n",
              "      <td>-0.003771</td>\n",
              "      <td>-0.000545</td>\n",
              "      <td>-0.006441</td>\n",
              "      <td>-0.004708</td>\n",
              "      <td>-0.002955</td>\n",
              "      <td>-0.001223</td>\n",
              "    </tr>\n",
              "    <tr>\n",
              "      <th>2019-03-06</th>\n",
              "      <td>-0.001479</td>\n",
              "      <td>-0.004683</td>\n",
              "      <td>-0.012660</td>\n",
              "      <td>-0.006434</td>\n",
              "      <td>-0.014622</td>\n",
              "      <td>-0.009394</td>\n",
              "      <td>0.002183</td>\n",
              "      <td>-0.005222</td>\n",
              "      <td>0.000000</td>\n",
              "    </tr>\n",
              "    <tr>\n",
              "      <th>2019-03-07</th>\n",
              "      <td>-0.006478</td>\n",
              "      <td>-0.012126</td>\n",
              "      <td>-0.005953</td>\n",
              "      <td>-0.010286</td>\n",
              "      <td>-0.007863</td>\n",
              "      <td>-0.006010</td>\n",
              "      <td>-0.008168</td>\n",
              "      <td>-0.009505</td>\n",
              "      <td>0.003324</td>\n",
              "    </tr>\n",
              "    <tr>\n",
              "      <th>2019-03-08</th>\n",
              "      <td>0.000559</td>\n",
              "      <td>-0.006962</td>\n",
              "      <td>-0.018735</td>\n",
              "      <td>-0.000385</td>\n",
              "      <td>-0.002121</td>\n",
              "      <td>-0.002016</td>\n",
              "      <td>0.001647</td>\n",
              "      <td>-0.000143</td>\n",
              "      <td>0.003487</td>\n",
              "    </tr>\n",
              "    <tr>\n",
              "      <th>2019-03-11</th>\n",
              "      <td>0.013033</td>\n",
              "      <td>0.013744</td>\n",
              "      <td>0.015649</td>\n",
              "      <td>0.010397</td>\n",
              "      <td>0.011409</td>\n",
              "      <td>0.008483</td>\n",
              "      <td>0.014252</td>\n",
              "      <td>0.021487</td>\n",
              "      <td>0.007124</td>\n",
              "    </tr>\n",
              "    <tr>\n",
              "      <th>2019-03-12</th>\n",
              "      <td>0.000368</td>\n",
              "      <td>0.002821</td>\n",
              "      <td>0.006472</td>\n",
              "      <td>0.002287</td>\n",
              "      <td>0.007299</td>\n",
              "      <td>-0.008278</td>\n",
              "      <td>0.003783</td>\n",
              "      <td>0.005890</td>\n",
              "      <td>0.006901</td>\n",
              "    </tr>\n",
              "    <tr>\n",
              "      <th>2019-03-13</th>\n",
              "      <td>0.005695</td>\n",
              "      <td>0.003539</td>\n",
              "      <td>0.010104</td>\n",
              "      <td>0.006844</td>\n",
              "      <td>0.010760</td>\n",
              "      <td>0.008751</td>\n",
              "      <td>0.004846</td>\n",
              "      <td>0.006552</td>\n",
              "      <td>0.001028</td>\n",
              "    </tr>\n",
              "    <tr>\n",
              "      <th>2019-03-14</th>\n",
              "      <td>-0.000913</td>\n",
              "      <td>-0.002984</td>\n",
              "      <td>0.001061</td>\n",
              "      <td>0.003776</td>\n",
              "      <td>-0.001629</td>\n",
              "      <td>-0.003337</td>\n",
              "      <td>-0.007501</td>\n",
              "      <td>0.002078</td>\n",
              "      <td>-0.000171</td>\n",
              "    </tr>\n",
              "    <tr>\n",
              "      <th>2019-03-15</th>\n",
              "      <td>0.005663</td>\n",
              "      <td>0.006415</td>\n",
              "      <td>-0.000397</td>\n",
              "      <td>0.006996</td>\n",
              "      <td>0.004598</td>\n",
              "      <td>-0.003529</td>\n",
              "      <td>0.001247</td>\n",
              "      <td>0.012105</td>\n",
              "      <td>0.003622</td>\n",
              "    </tr>\n",
              "    <tr>\n",
              "      <th>2019-03-18</th>\n",
              "      <td>0.001462</td>\n",
              "      <td>0.009675</td>\n",
              "      <td>0.013891</td>\n",
              "      <td>0.010139</td>\n",
              "      <td>-0.001522</td>\n",
              "      <td>0.009731</td>\n",
              "      <td>0.002347</td>\n",
              "      <td>0.004247</td>\n",
              "      <td>-0.003781</td>\n",
              "    </tr>\n",
              "    <tr>\n",
              "      <th>2019-03-19</th>\n",
              "      <td>-0.000730</td>\n",
              "      <td>0.005015</td>\n",
              "      <td>-0.002710</td>\n",
              "      <td>-0.007807</td>\n",
              "      <td>0.007948</td>\n",
              "      <td>-0.003614</td>\n",
              "      <td>-0.001261</td>\n",
              "      <td>0.002046</td>\n",
              "      <td>-0.011385</td>\n",
              "    </tr>\n",
              "    <tr>\n",
              "      <th>2019-03-20</th>\n",
              "      <td>-0.004202</td>\n",
              "      <td>0.001426</td>\n",
              "      <td>0.008756</td>\n",
              "      <td>-0.020607</td>\n",
              "      <td>-0.006913</td>\n",
              "      <td>-0.006851</td>\n",
              "      <td>-0.000902</td>\n",
              "      <td>-0.002723</td>\n",
              "      <td>0.002617</td>\n",
              "    </tr>\n",
              "    <tr>\n",
              "      <th>2019-03-21</th>\n",
              "      <td>0.011741</td>\n",
              "      <td>0.013702</td>\n",
              "      <td>0.007034</td>\n",
              "      <td>-0.003060</td>\n",
              "      <td>0.003916</td>\n",
              "      <td>0.009604</td>\n",
              "      <td>0.010648</td>\n",
              "      <td>0.025119</td>\n",
              "      <td>0.010616</td>\n",
              "    </tr>\n",
              "    <tr>\n",
              "      <th>2019-03-22</th>\n",
              "      <td>-0.001269</td>\n",
              "      <td>-0.019837</td>\n",
              "      <td>-0.027047</td>\n",
              "      <td>-0.027629</td>\n",
              "      <td>-0.018202</td>\n",
              "      <td>-0.022642</td>\n",
              "      <td>-0.029821</td>\n",
              "      <td>-0.023572</td>\n",
              "      <td>0.007233</td>\n",
              "    </tr>\n",
              "    <tr>\n",
              "      <th>2019-03-25</th>\n",
              "      <td>0.001997</td>\n",
              "      <td>0.005910</td>\n",
              "      <td>0.000458</td>\n",
              "      <td>-0.004341</td>\n",
              "      <td>-0.000552</td>\n",
              "      <td>0.002330</td>\n",
              "      <td>-0.001841</td>\n",
              "      <td>-0.004364</td>\n",
              "      <td>0.000855</td>\n",
              "    </tr>\n",
              "    <tr>\n",
              "      <th>2019-03-26</th>\n",
              "      <td>0.008516</td>\n",
              "      <td>0.004273</td>\n",
              "      <td>0.014351</td>\n",
              "      <td>0.011891</td>\n",
              "      <td>0.006846</td>\n",
              "      <td>0.006701</td>\n",
              "      <td>0.006085</td>\n",
              "      <td>0.005479</td>\n",
              "      <td>0.007175</td>\n",
              "    </tr>\n",
              "    <tr>\n",
              "      <th>2019-03-27</th>\n",
              "      <td>-0.003414</td>\n",
              "      <td>-0.002039</td>\n",
              "      <td>-0.007074</td>\n",
              "      <td>-0.004309</td>\n",
              "      <td>-0.008334</td>\n",
              "      <td>0.001087</td>\n",
              "      <td>-0.001283</td>\n",
              "      <td>-0.005722</td>\n",
              "      <td>-0.006954</td>\n",
              "    </tr>\n",
              "    <tr>\n",
              "      <th>2019-03-28</th>\n",
              "      <td>0.004868</td>\n",
              "      <td>0.006040</td>\n",
              "      <td>0.003790</td>\n",
              "      <td>0.008655</td>\n",
              "      <td>0.002543</td>\n",
              "      <td>0.007328</td>\n",
              "      <td>0.009727</td>\n",
              "      <td>0.004111</td>\n",
              "      <td>-0.011785</td>\n",
              "    </tr>\n",
              "    <tr>\n",
              "      <th>2019-03-29</th>\n",
              "      <td>0.006638</td>\n",
              "      <td>0.005209</td>\n",
              "      <td>-0.001510</td>\n",
              "      <td>0.002730</td>\n",
              "      <td>0.012023</td>\n",
              "      <td>0.010777</td>\n",
              "      <td>0.008724</td>\n",
              "      <td>0.009825</td>\n",
              "      <td>0.005358</td>\n",
              "    </tr>\n",
              "    <tr>\n",
              "      <th>2019-04-01</th>\n",
              "      <td>-0.003386</td>\n",
              "      <td>0.010979</td>\n",
              "      <td>0.013158</td>\n",
              "      <td>0.024504</td>\n",
              "      <td>0.001526</td>\n",
              "      <td>0.020658</td>\n",
              "      <td>0.014955</td>\n",
              "      <td>0.013649</td>\n",
              "      <td>-0.006876</td>\n",
              "    </tr>\n",
              "  </tbody>\n",
              "</table>\n",
              "<p>5032 rows × 9 columns</p>\n",
              "</div>"
            ],
            "text/plain": [
              "                 XLP       XLY       XLE       XLF       XLV       XLI  \\\n",
              "Date                                                                     \n",
              "1999-04-01  0.001773 -0.001093 -0.001271  0.002506  0.000000  0.010650   \n",
              "1999-04-05  0.005310  0.013129  0.024173  0.020001  0.022321  0.021700   \n",
              "1999-04-06 -0.011151  0.005400 -0.009938 -0.007353  0.001090 -0.005464   \n",
              "1999-04-07 -0.001186  0.008593 -0.010037  0.027161  0.019085  0.001832   \n",
              "1999-04-08  0.023173  0.022364  0.010139  0.018027  0.010167  0.005480   \n",
              "1999-04-09  0.002323  0.009375  0.018820 -0.002361  0.003176  0.000608   \n",
              "1999-04-12  0.016802  0.008256  0.007390  0.017754  0.025344  0.024213   \n",
              "1999-04-13  0.003419 -0.005117 -0.001223 -0.001165 -0.010299  0.007682   \n",
              "1999-04-14 -0.030097 -0.022633 -0.012240 -0.012803 -0.009363  0.021700   \n",
              "1999-04-15 -0.024590 -0.002106  0.043370 -0.009434 -0.025210  0.025832   \n",
              "1999-04-16  0.004202  0.003165  0.031472 -0.004761 -0.009700  0.005598   \n",
              "1999-04-19 -0.041841 -0.022082  0.012090  0.000000 -0.027202  0.008347   \n",
              "1999-04-20  0.018715  0.012903 -0.015927  0.013156  0.019014 -0.006622   \n",
              "1999-04-21  0.031843  0.016985 -0.015029  0.015350  0.023053  0.003332   \n",
              "1999-04-22  0.012463  0.002609  0.017606  0.010463  0.020385  0.000552   \n",
              "1999-04-23 -0.001758  0.010932 -0.012688 -0.003450  0.022608  0.007750   \n",
              "1999-04-26 -0.007046 -0.006179 -0.022196 -0.015013 -0.001543 -0.001100   \n",
              "1999-04-27  0.001183  0.002590  0.031661  0.017587  0.001032  0.004950   \n",
              "1999-04-28 -0.014767 -0.003618  0.033005 -0.005762 -0.026749  0.012580   \n",
              "1999-04-29 -0.007793 -0.022821  0.030269  0.003478 -0.011630  0.003782   \n",
              "1999-04-30 -0.013294 -0.003185 -0.016866 -0.013857 -0.007485 -0.011839   \n",
              "1999-05-03  0.023271  0.024494  0.024903  0.011709  0.019397  0.019608   \n",
              "1999-05-04 -0.008379 -0.011435  0.001080 -0.031252 -0.019028  0.004274   \n",
              "1999-05-05  0.009656 -0.008412 -0.014563  0.005976  0.008621  0.000000   \n",
              "1999-05-06 -0.013150 -0.022270 -0.002737 -0.016627  0.004273  0.002127   \n",
              "1999-05-07  0.008479  0.022777  0.006037  0.019324 -0.003193  0.019108   \n",
              "1999-05-10 -0.015615 -0.001060 -0.011456 -0.003556 -0.002134 -0.013543   \n",
              "1999-05-11  0.004271  0.020170  0.003311  0.011890  0.016045  0.016895   \n",
              "1999-05-12  0.014580  0.006243 -0.018702  0.014102  0.009472 -0.009865   \n",
              "1999-05-13  0.004790 -0.005170  0.005045  0.009269 -0.006256 -0.009961   \n",
              "...              ...       ...       ...       ...       ...       ...   \n",
              "2019-02-19  0.005152  0.004089  0.003025  0.001513 -0.002369 -0.000396   \n",
              "2019-02-20 -0.001831  0.001991  0.004222  0.006422 -0.001187  0.004758   \n",
              "2019-02-21  0.002934 -0.001987 -0.015465 -0.005255 -0.008755 -0.004078   \n",
              "2019-02-22 -0.004754  0.005429  0.002898 -0.001510  0.009159  0.006604   \n",
              "2019-02-25 -0.005512 -0.003330  0.001673  0.004157  0.001405  0.003937   \n",
              "2019-02-26  0.000554  0.001355 -0.003188 -0.003011 -0.003561 -0.002745   \n",
              "2019-02-27 -0.001477 -0.000721  0.003807  0.003775 -0.004656  0.003932   \n",
              "2019-02-28  0.004808 -0.005415 -0.010014 -0.002633 -0.002937 -0.003394   \n",
              "2019-03-01 -0.001840  0.008075  0.018391  0.006410  0.014184  0.000917   \n",
              "2019-03-04 -0.001659 -0.003150  0.001806 -0.006369 -0.013556 -0.004450   \n",
              "2019-03-05 -0.000739  0.002528 -0.003305 -0.003771 -0.000545 -0.006441   \n",
              "2019-03-06 -0.001479 -0.004683 -0.012660 -0.006434 -0.014622 -0.009394   \n",
              "2019-03-07 -0.006478 -0.012126 -0.005953 -0.010286 -0.007863 -0.006010   \n",
              "2019-03-08  0.000559 -0.006962 -0.018735 -0.000385 -0.002121 -0.002016   \n",
              "2019-03-11  0.013033  0.013744  0.015649  0.010397  0.011409  0.008483   \n",
              "2019-03-12  0.000368  0.002821  0.006472  0.002287  0.007299 -0.008278   \n",
              "2019-03-13  0.005695  0.003539  0.010104  0.006844  0.010760  0.008751   \n",
              "2019-03-14 -0.000913 -0.002984  0.001061  0.003776 -0.001629 -0.003337   \n",
              "2019-03-15  0.005663  0.006415 -0.000397  0.006996  0.004598 -0.003529   \n",
              "2019-03-18  0.001462  0.009675  0.013891  0.010139 -0.001522  0.009731   \n",
              "2019-03-19 -0.000730  0.005015 -0.002710 -0.007807  0.007948 -0.003614   \n",
              "2019-03-20 -0.004202  0.001426  0.008756 -0.020607 -0.006913 -0.006851   \n",
              "2019-03-21  0.011741  0.013702  0.007034 -0.003060  0.003916  0.009604   \n",
              "2019-03-22 -0.001269 -0.019837 -0.027047 -0.027629 -0.018202 -0.022642   \n",
              "2019-03-25  0.001997  0.005910  0.000458 -0.004341 -0.000552  0.002330   \n",
              "2019-03-26  0.008516  0.004273  0.014351  0.011891  0.006846  0.006701   \n",
              "2019-03-27 -0.003414 -0.002039 -0.007074 -0.004309 -0.008334  0.001087   \n",
              "2019-03-28  0.004868  0.006040  0.003790  0.008655  0.002543  0.007328   \n",
              "2019-03-29  0.006638  0.005209 -0.001510  0.002730  0.012023  0.010777   \n",
              "2019-04-01 -0.003386  0.010979  0.013158  0.024504  0.001526  0.020658   \n",
              "\n",
              "                 XLB       XLK       XLU  \n",
              "Date                                      \n",
              "1999-04-01  0.011495  0.015798  0.021077  \n",
              "1999-04-05  0.012074  0.034469  0.008025  \n",
              "1999-04-06 -0.017544  0.008533 -0.005118  \n",
              "1999-04-07  0.010715 -0.002416  0.013152  \n",
              "1999-04-08  0.014134  0.009693  0.026521  \n",
              "1999-04-09 -0.004878 -0.001600 -0.007146  \n",
              "1999-04-12  0.029411 -0.015226  0.014398  \n",
              "1999-04-13  0.012245 -0.015458 -0.016377  \n",
              "1999-04-14  0.048387 -0.024793 -0.014427  \n",
              "1999-04-15  0.038461  0.008474  0.010133  \n",
              "1999-04-16  0.011112 -0.026891  0.011148  \n",
              "1999-04-19  0.010378 -0.048359  0.009924  \n",
              "1999-04-20 -0.012085  0.025408  0.010917  \n",
              "1999-04-21  0.004281  0.026549  0.017818  \n",
              "1999-04-22 -0.015834  0.046118 -0.003184  \n",
              "1999-04-23  0.014851  0.002063 -0.000532  \n",
              "1999-04-26 -0.009755  0.025492 -0.005323  \n",
              "1999-04-27  0.019704 -0.024858  0.005886  \n",
              "1999-04-28  0.053140 -0.013158 -0.004258  \n",
              "1999-04-29  0.007454 -0.010419  0.014432  \n",
              "1999-04-30 -0.011952 -0.007998 -0.013171  \n",
              "1999-05-03  0.023042  0.008489  0.014950  \n",
              "1999-05-04 -0.006194 -0.015152 -0.008417  \n",
              "1999-05-05  0.011899  0.020513  0.007959  \n",
              "1999-05-06  0.008399 -0.025126 -0.021053  \n",
              "1999-05-07  0.002221  0.017182  0.012363  \n",
              "1999-05-10 -0.005540  0.008446 -0.002654  \n",
              "1999-05-11 -0.001672  0.015076  0.003728  \n",
              "1999-05-12 -0.025111  0.019802  0.002652  \n",
              "1999-05-13 -0.004008 -0.002832  0.013226  \n",
              "...              ...       ...       ...  \n",
              "2019-02-19  0.006241  0.000287  0.005924  \n",
              "2019-02-20  0.017147  0.001149  0.004461  \n",
              "2019-02-21 -0.003945  0.000430  0.007284  \n",
              "2019-02-22  0.004321  0.012760  0.006173  \n",
              "2019-02-25  0.006454  0.004813 -0.006486  \n",
              "2019-02-26 -0.005700  0.002113 -0.001235  \n",
              "2019-02-27 -0.001612 -0.000984  0.001236  \n",
              "2019-02-28 -0.012202 -0.002815  0.005822  \n",
              "2019-03-01 -0.001272  0.006774  0.002105  \n",
              "2019-03-04  0.004547 -0.003785  0.001750  \n",
              "2019-03-05 -0.004708 -0.002955 -0.001223  \n",
              "2019-03-06  0.002183 -0.005222  0.000000  \n",
              "2019-03-07 -0.008168 -0.009505  0.003324  \n",
              "2019-03-08  0.001647 -0.000143  0.003487  \n",
              "2019-03-11  0.014252  0.021487  0.007124  \n",
              "2019-03-12  0.003783  0.005890  0.006901  \n",
              "2019-03-13  0.004846  0.006552  0.001028  \n",
              "2019-03-14 -0.007501  0.002078 -0.000171  \n",
              "2019-03-15  0.001247  0.012105  0.003622  \n",
              "2019-03-18  0.002347  0.004247 -0.003781  \n",
              "2019-03-19 -0.001261  0.002046 -0.011385  \n",
              "2019-03-20 -0.000902 -0.002723  0.002617  \n",
              "2019-03-21  0.010648  0.025119  0.010616  \n",
              "2019-03-22 -0.029821 -0.023572  0.007233  \n",
              "2019-03-25 -0.001841 -0.004364  0.000855  \n",
              "2019-03-26  0.006085  0.005479  0.007175  \n",
              "2019-03-27 -0.001283 -0.005722 -0.006954  \n",
              "2019-03-28  0.009727  0.004111 -0.011785  \n",
              "2019-03-29  0.008724  0.009825  0.005358  \n",
              "2019-04-01  0.014955  0.013649 -0.006876  \n",
              "\n",
              "[5032 rows x 9 columns]"
            ]
          },
          "metadata": {
            "tags": []
          },
          "execution_count": 7
        }
      ]
    },
    {
      "cell_type": "code",
      "metadata": {
        "id": "WL0R1q2M8zNt",
        "colab_type": "code",
        "outputId": "76b7e3fe-fa9c-49a9-a199-36f9b7630d9d",
        "colab": {
          "base_uri": "https://localhost:8080/",
          "height": 277
        }
      },
      "source": [
        "#Retrieve Volume\n",
        "print(volumes.head())"
      ],
      "execution_count": 0,
      "outputs": [
        {
          "output_type": "stream",
          "text": [
            "                 XLP      XLY       XLE       XLF      XLV      XLI      XLB  \\\n",
            "Date                                                                           \n",
            "1999-03-31   45800.0  24400.0   67000.0  112600.0   6300.0  21700.0  10600.0   \n",
            "1999-04-01   38500.0   4100.0   22000.0   52900.0  22500.0   3500.0  12300.0   \n",
            "1999-04-05   32900.0   9600.0   58400.0   92900.0  12400.0   7700.0  11900.0   \n",
            "1999-04-06  136600.0  10900.0   42600.0  142400.0  14500.0   2700.0  52800.0   \n",
            "1999-04-07   77800.0  13600.0  836400.0  324700.0  15700.0  24400.0  45200.0   \n",
            "\n",
            "                  XLK      XLU  \n",
            "Date                            \n",
            "1999-03-31   774700.0  20500.0  \n",
            "1999-04-01   318500.0  11200.0  \n",
            "1999-04-05  1003500.0   8400.0  \n",
            "1999-04-06   540100.0  38900.0  \n",
            "1999-04-07   931700.0  29100.0  \n"
          ],
          "name": "stdout"
        }
      ]
    },
    {
      "cell_type": "code",
      "metadata": {
        "id": "_hTLfdFZT-3Q",
        "colab_type": "code",
        "outputId": "32ee8489-bb19-45f2-f015-efac360d3d89",
        "colab": {
          "base_uri": "https://localhost:8080/",
          "height": 291
        }
      },
      "source": [
        "prices.plot()"
      ],
      "execution_count": 0,
      "outputs": [
        {
          "output_type": "execute_result",
          "data": {
            "text/plain": [
              "<matplotlib.axes._subplots.AxesSubplot at 0x7f8b56108b38>"
            ]
          },
          "metadata": {
            "tags": []
          },
          "execution_count": 9
        },
        {
          "output_type": "display_data",
          "data": {
            "image/png": "[encoded data removed]",
            "text/plain": [
              "<Figure size 432x288 with 1 Axes>"
            ]
          },
          "metadata": {
            "tags": []
          }
        }
      ]
    },
    {
      "cell_type": "code",
      "metadata": {
        "id": "aWE-hqFbVCb9",
        "colab_type": "code",
        "outputId": "07474200-8084-49a2-b6cc-1a6c93da4f07",
        "colab": {
          "base_uri": "https://localhost:8080/",
          "height": 291
        }
      },
      "source": [
        "returns.plot()"
      ],
      "execution_count": 0,
      "outputs": [
        {
          "output_type": "execute_result",
          "data": {
            "text/plain": [
              "<matplotlib.axes._subplots.AxesSubplot at 0x7f8b55cd8f28>"
            ]
          },
          "metadata": {
            "tags": []
          },
          "execution_count": 10
        },
        {
          "output_type": "display_data",
          "data": {
            "image/png": "[encoded data removed]",
            "text/plain": [
              "<Figure size 432x288 with 1 Axes>"
            ]
          },
          "metadata": {
            "tags": []
          }
        }
      ]
    },
    {
      "cell_type": "code",
      "metadata": {
        "id": "5GvYI1tB9h3H",
        "colab_type": "code",
        "outputId": "92c5fe9e-b27a-4abe-c675-087fe304e669",
        "colab": {
          "base_uri": "https://localhost:8080/",
          "height": 298
        }
      },
      "source": [
        "volumes.plot()"
      ],
      "execution_count": 0,
      "outputs": [
        {
          "output_type": "execute_result",
          "data": {
            "text/plain": [
              "<matplotlib.axes._subplots.AxesSubplot at 0x7f8b55b31978>"
            ]
          },
          "metadata": {
            "tags": []
          },
          "execution_count": 11
        },
        {
          "output_type": "display_data",
          "data": {
            "image/png": "[encoded data removed]",
            "text/plain": [
              "<Figure size 432x288 with 1 Axes>"
            ]
          },
          "metadata": {
            "tags": []
          }
        }
      ]
    },
    {
      "cell_type": "code",
      "metadata": {
        "id": "mUXlt6LfLH-H",
        "colab_type": "code",
        "colab": {}
      },
      "source": [
        "#Create DF\n",
        "\n",
        "from sklearn.preprocessing import LabelEncoder\n",
        "\n",
        "df = returns.copy()\n",
        "df.columns = [str(col) + '_returns' for col in df.columns]\n",
        "\n",
        "#what if there are >1 max?\n",
        "max_next_day = df.idxmax(axis = 1)\n",
        "\n",
        "df[\"max_next_day\"] = max_next_day\n",
        "df.max_next_day = df.max_next_day.shift(-1)\n",
        "\n",
        "df.drop(df.tail(1).index,inplace=True) #remove last row\n",
        "\n",
        "le = LabelEncoder()\n",
        "df['labelencode_max_next_day'] = le.fit_transform(df['max_next_day'])"
      ],
      "execution_count": 0,
      "outputs": []
    },
    {
      "cell_type": "code",
      "metadata": {
        "id": "Bc9gPtkR9qzB",
        "colab_type": "code",
        "colab": {}
      },
      "source": [
        "#Add Volume into DF\n",
        "#Removed first and last because Zijun removed that in her code\n",
        "for ticker in tickers:\n",
        "  df[ticker+'_vol'] = volumes[ticker][1:-1]"
      ],
      "execution_count": 0,
      "outputs": []
    },
    {
      "cell_type": "code",
      "metadata": {
        "id": "ZhS4FhPWNEon",
        "colab_type": "code",
        "colab": {}
      },
      "source": [
        "#Add forward-looking next day's returns (This column will not be used for training. Only for post-analysis)\n",
        "\n",
        "look_forward_returns = returns.copy().iloc[1:,:]\n",
        "df_forward_returns = pd.DataFrame(index= df.index.tolist())\n",
        "\n",
        "for ticker in tickers:\n",
        "  look_forward_returns_list = look_forward_returns[ticker].tolist()\n",
        "  df_forward_returns[ticker+'_1D_forward_returns'] = look_forward_returns_list"
      ],
      "execution_count": 0,
      "outputs": []
    },
    {
      "cell_type": "code",
      "metadata": {
        "id": "0ohl3z_HfG9_",
        "colab_type": "code",
        "colab": {}
      },
      "source": [
        "#Create Desired output column\n",
        "returns_temp = returns.copy()\n",
        "returns_temp.columns = [str(col) + '_returns' for col in returns_temp.columns]\n",
        "returns_temp[str(PERCENTILE) + ' Percentile'] = returns_temp.quantile(q=PERCENTILE/100,axis=1)\n",
        "returns_temp['>' + str(PERCENTILE) + ' Percentile?'] = np.where(returns_temp[TICKER_OF_INTEREST + '_returns'] >= returns_temp[str(PERCENTILE) + ' Percentile'], 1, 0)\n",
        "\n",
        "returns_temp.drop(returns_temp.tail(1).index,inplace=True)\n",
        "df = pd.concat([df, returns_temp], axis=1, join='inner')\n",
        "\n",
        "df = df.loc[:,~df.columns.duplicated()]\n",
        "\n"
      ],
      "execution_count": 0,
      "outputs": []
    },
    {
      "cell_type": "markdown",
      "metadata": {
        "id": "bRzIkIKeWbdn",
        "colab_type": "text"
      },
      "source": [
        "#Initial Analysis"
      ]
    },
    {
      "cell_type": "code",
      "metadata": {
        "id": "3-hYcMX7yHdd",
        "colab_type": "code",
        "outputId": "935d60b4-c2f7-4261-ae52-e12874e21f32",
        "colab": {
          "base_uri": "https://localhost:8080/",
          "height": 69
        }
      },
      "source": [
        "#Composition of Desired output in dataset\n",
        "df['>' + str(PERCENTILE) + ' Percentile?'].value_counts()"
      ],
      "execution_count": 0,
      "outputs": [
        {
          "output_type": "execute_result",
          "data": {
            "text/plain": [
              "1    2897\n",
              "0    2134\n",
              "Name: >50 Percentile?, dtype: int64"
            ]
          },
          "metadata": {
            "tags": []
          },
          "execution_count": 16
        }
      ]
    },
    {
      "cell_type": "code",
      "metadata": {
        "id": "A9p-otdSWd2F",
        "colab_type": "code",
        "outputId": "17cec982-fe33-456a-aa02-0bdc21ec5c94",
        "colab": {
          "base_uri": "https://localhost:8080/",
          "height": 191
        }
      },
      "source": [
        "#Check average daily returns\n",
        "print(returns.mean(axis=0))"
      ],
      "execution_count": 0,
      "outputs": [
        {
          "output_type": "stream",
          "text": [
            "XLP    0.000283\n",
            "XLY    0.000421\n",
            "XLE    0.000421\n",
            "XLF    0.000369\n",
            "XLV    0.000355\n",
            "XLI    0.000382\n",
            "XLB    0.000394\n",
            "XLK    0.000318\n",
            "XLU    0.000363\n",
            "dtype: float64\n"
          ],
          "name": "stdout"
        }
      ]
    },
    {
      "cell_type": "code",
      "metadata": {
        "id": "FDpT9dmQHJFY",
        "colab_type": "code",
        "outputId": "172ebf24-cadd-4690-c6e8-079021d51a5d",
        "colab": {
          "base_uri": "https://localhost:8080/",
          "height": 52
        }
      },
      "source": [
        "#Sector with Highest Returns\n",
        "print(\"\\n\"+\"Sector with Highest Returns: \" + np.argmax(returns.mean(axis=0)))\n"
      ],
      "execution_count": 0,
      "outputs": [
        {
          "output_type": "stream",
          "text": [
            "\n",
            "Sector with Highest Returns: XLY\n"
          ],
          "name": "stdout"
        }
      ]
    },
    {
      "cell_type": "code",
      "metadata": {
        "id": "ihECsHWMlYtJ",
        "colab_type": "code",
        "outputId": "60c1fdb6-68ea-4252-9edb-11573f859e11",
        "colab": {
          "base_uri": "https://localhost:8080/",
          "height": 173
        }
      },
      "source": [
        "#Composition of Dataset\n",
        "for ticker in returns.columns:\n",
        "  print(\"% of Dataset max_next_day_return that is \" + ticker + \": \" + str(len(df[df[\"max_next_day\"] == ticker+\"_returns\"])/len(df)))"
      ],
      "execution_count": 0,
      "outputs": [
        {
          "output_type": "stream",
          "text": [
            "% of Dataset max_next_day_return that is XLP: 0.08884913536076326\n",
            "% of Dataset max_next_day_return that is XLY: 0.0725501888292586\n",
            "% of Dataset max_next_day_return that is XLE: 0.20333929636255219\n",
            "% of Dataset max_next_day_return that is XLF: 0.11329755515802027\n",
            "% of Dataset max_next_day_return that is XLV: 0.08547008547008547\n",
            "% of Dataset max_next_day_return that is XLI: 0.05108328364142318\n",
            "% of Dataset max_next_day_return that is XLB: 0.10812959650168953\n",
            "% of Dataset max_next_day_return that is XLK: 0.11965811965811966\n",
            "% of Dataset max_next_day_return that is XLU: 0.15762273901808785\n"
          ],
          "name": "stdout"
        }
      ]
    },
    {
      "cell_type": "markdown",
      "metadata": {
        "id": "CsPp4rzMUZ_S",
        "colab_type": "text"
      },
      "source": [
        "# Feature Engineering"
      ]
    },
    {
      "cell_type": "markdown",
      "metadata": {
        "id": "UMQeXMs6q90_",
        "colab_type": "text"
      },
      "source": [
        "## Day of Week"
      ]
    },
    {
      "cell_type": "code",
      "metadata": {
        "id": "iWBA5uR3rC5B",
        "colab_type": "code",
        "colab": {}
      },
      "source": [
        "# dates = df.index.tolist()\n",
        "# day_of_week=[]\n",
        "# for i in range(0, len(dates)):\n",
        "#   day = dates[i].to_pydatetime().weekday()\n",
        "#   day_of_week.append(day)\n",
        "# df['day_of_week'] = day_of_week\n",
        "\n",
        "# df.head()"
      ],
      "execution_count": 0,
      "outputs": []
    },
    {
      "cell_type": "markdown",
      "metadata": {
        "id": "6jcgslxgcfJN",
        "colab_type": "text"
      },
      "source": [
        "##Facebook Prophet"
      ]
    },
    {
      "cell_type": "code",
      "metadata": {
        "id": "MQlrIaoLchf9",
        "colab_type": "code",
        "outputId": "522ceaa9-fe3c-4dd0-b39f-e90f6fdd2732",
        "colab": {
          "base_uri": "https://localhost:8080/",
          "height": 867
        }
      },
      "source": [
        "from fbprophet import Prophet\n",
        "import plotly.offline as py\n",
        "import plotly.graph_objs as go\n",
        "\n",
        "for ticker in tickers:\n",
        "#   prices[ticker].plot()\n",
        "  prices_fbp = pd.DataFrame(prices[ticker][1:]).reset_index()\n",
        "  prices_fbp.columns = ['ds', 'y' ]\n",
        "  \n",
        "  p = Prophet(changepoint_prior_scale=3.0, daily_seasonality=True)\n",
        "  p.add_seasonality(name='monthly', period=60, fourier_order=5)\n",
        "  p.fit(prices_fbp)\n",
        "  future_prices = p.make_future_dataframe(periods=365)\n",
        "  forecast_prices = p.predict(future_prices)\n",
        "  \n",
        "\n",
        "  forecast_prices = forecast_prices[:len(df)]\n",
        "  \n",
        "  df[str(ticker)+'_trend'] = forecast_prices['trend'].tolist()\n",
        "  df[str(ticker)+'_yhat_lower'] = forecast_prices['yhat_lower'].tolist()\n",
        "  df[str(ticker)+'_yhat_upper'] = forecast_prices['yhat_upper'].tolist()\n",
        "  df[str(ticker)+'_trend_lower'] = forecast_prices['trend_lower'].tolist()\n",
        "  df[str(ticker)+'_trend_upper'] = forecast_prices['trend_upper'].tolist()\n",
        "  df[str(ticker)+'_additive_terms'] = forecast_prices['additive_terms'].tolist()\n",
        "  df[str(ticker)+'_additive_terms_lower'] = forecast_prices['additive_terms_lower'].tolist()\n",
        "  df[str(ticker)+'_additive_terms_upper'] = forecast_prices['additive_terms_upper'].tolist()\n",
        "  df[str(ticker)+'_weekly'] = forecast_prices['weekly'].tolist()\n",
        "  df[str(ticker)+'_weekly_lower'] = forecast_prices['weekly_lower'].tolist()\n",
        "  df[str(ticker)+'_weekly_upper'] = forecast_prices['weekly_upper'].tolist()\n",
        "  df[str(ticker)+'_yearly'] = forecast_prices['yearly'].tolist()\n",
        "  df[str(ticker)+'_yearly_lower'] = forecast_prices['yearly_lower'].tolist()\n",
        "  df[str(ticker)+'_yearly_upper'] = forecast_prices['yearly_upper'].tolist()\n",
        "  df[str(ticker)+'_yhat'] = forecast_prices['yhat'].tolist()\n",
        "  \n",
        "\n",
        "print(df.head())"
      ],
      "execution_count": 0,
      "outputs": [
        {
          "output_type": "stream",
          "text": [
            "            XLP_returns  XLY_returns  XLE_returns  XLF_returns  XLV_returns  \\\n",
            "Date                                                                          \n",
            "1999-04-01     0.001773    -0.001093    -0.001271     0.002506     0.000000   \n",
            "1999-04-05     0.005310     0.013129     0.024173     0.020001     0.022321   \n",
            "1999-04-06    -0.011151     0.005400    -0.009938    -0.007353     0.001090   \n",
            "1999-04-07    -0.001186     0.008593    -0.010037     0.027161     0.019085   \n",
            "1999-04-08     0.023173     0.022364     0.010139     0.018027     0.010167   \n",
            "\n",
            "            XLI_returns  XLB_returns  XLK_returns  XLU_returns max_next_day  \\\n",
            "Date                                                                          \n",
            "1999-04-01     0.010650     0.011495     0.015798     0.021077  XLK_returns   \n",
            "1999-04-05     0.021700     0.012074     0.034469     0.008025  XLK_returns   \n",
            "1999-04-06    -0.005464    -0.017544     0.008533    -0.005118  XLF_returns   \n",
            "1999-04-07     0.001832     0.010715    -0.002416     0.013152  XLU_returns   \n",
            "1999-04-08     0.005480     0.014134     0.009693     0.026521  XLE_returns   \n",
            "\n",
            "            ...  XLU_additive_terms  XLU_additive_terms_lower  \\\n",
            "Date        ...                                                 \n",
            "1999-04-01  ...            1.085945                  1.085945   \n",
            "1999-04-05  ...            1.093988                  1.093988   \n",
            "1999-04-06  ...            1.089956                  1.089956   \n",
            "1999-04-07  ...            1.064397                  1.064397   \n",
            "1999-04-08  ...            1.070972                  1.070972   \n",
            "\n",
            "            XLU_additive_terms_upper  XLU_weekly  XLU_weekly_lower  \\\n",
            "Date                                                                 \n",
            "1999-04-01                  1.085945    0.044988          0.044988   \n",
            "1999-04-05                  1.093988    0.056117          0.056117   \n",
            "1999-04-06                  1.089956    0.055894          0.055894   \n",
            "1999-04-07                  1.064397    0.034602          0.034602   \n",
            "1999-04-08                  1.070972    0.044988          0.044988   \n",
            "\n",
            "            XLU_weekly_upper  XLU_yearly  XLU_yearly_lower  XLU_yearly_upper  \\\n",
            "Date                                                                           \n",
            "1999-04-01          0.044988    0.040240          0.040240          0.040240   \n",
            "1999-04-05          0.056117    0.040479          0.040479          0.040479   \n",
            "1999-04-06          0.055894    0.039936          0.039936          0.039936   \n",
            "1999-04-07          0.034602    0.039745          0.039745          0.039745   \n",
            "1999-04-08          0.044988    0.040183          0.040183          0.040183   \n",
            "\n",
            "             XLU_yhat  \n",
            "Date                   \n",
            "1999-04-01  14.566680  \n",
            "1999-04-05  14.567822  \n",
            "1999-04-06  14.562064  \n",
            "1999-04-07  14.534781  \n",
            "1999-04-08  14.539630  \n",
            "\n",
            "[5 rows x 157 columns]\n"
          ],
          "name": "stdout"
        }
      ]
    },
    {
      "cell_type": "markdown",
      "metadata": {
        "id": "V_s1_fIZAu81",
        "colab_type": "text"
      },
      "source": [
        "## ARIMA Time Series Model"
      ]
    },
    {
      "cell_type": "code",
      "metadata": {
        "id": "MnNqHT_Y1Bqz",
        "colab_type": "code",
        "colab": {}
      },
      "source": [
        "#ARIMA\n",
        "import statsmodels.tsa.api as smt\n",
        "\n",
        "#Retrieve prices\n",
        "arima_prices_dict = {}\n",
        "for ticker in tickers:\n",
        "    arima_ticker_prices = pdr.get_data_yahoo(ticker, arima_startdate, enddate)\n",
        "    arima_prices_dict[ticker] = arima_ticker_prices['Adj Close']\n",
        "    \n",
        "arima_prices = pd.DataFrame(arima_prices_dict)\n",
        "\n",
        "for ticker in tickers:\n",
        "  ticker_arima_predictions = []\n",
        "  for i in range(len(arima_prices[ticker].loc[:startdate]),len(arima_prices)):\n",
        "    #Just to use previous 50 prices for training\n",
        "    tmp_prices = arima_prices[ticker].iloc[:i]\n",
        "    training_prices_for_this_date = tmp_prices[-50:]\n",
        "\n",
        "    arima = smt.ARIMA(training_prices_for_this_date, (1,0,0)) \n",
        "    arima_fit = arima.fit()\n",
        "    num_steps = 1\n",
        "    forecast_mean, forecast_std, forecast_ci = arima_fit.forecast(steps=num_steps)\n",
        "    ticker_arima_predictions.append(forecast_mean)\n",
        "\n",
        "  #Delete last one because Zijun took away last row. Just delete next line if Zijun's code has been updated.\n",
        "  ticker_arima_predictions = ticker_arima_predictions[:-1]\n",
        "\n",
        "  #Add to df\n",
        "  df[ticker + '_arima'] = ticker_arima_predictions\n",
        "\n",
        "  \n",
        "  \n",
        "#Change ARIMA predictions to returns\n",
        "for ticker in tickers:\n",
        "  df[ticker+'_arima'] = (df[ticker+'_arima'] - prices[ticker][1:-1]) / prices[ticker][1:-1]"
      ],
      "execution_count": 0,
      "outputs": []
    },
    {
      "cell_type": "code",
      "metadata": {
        "id": "fbF6uucEqZWm",
        "colab_type": "code",
        "colab": {}
      },
      "source": [
        "# #Remove this cell and uncomment above if you want to repredict with ARIMA. Otherwise, retrieve the pre-predicted csv to save time\n",
        "# from google.colab import drive\n",
        "# drive.mount('/content/gdrive')\n",
        "\n",
        "# ticker_arima_predictions = pd.read_csv('gdrive/My Drive/arima_file.csv')\n",
        "\n",
        "# for ticker in tickers:\n",
        "#   df[ticker + '_arima'] = ticker_arima_predictions[ticker + '_arima'].tolist()\n",
        "  \n",
        "# #Change ARIMA predictions to returns\n",
        "\n",
        "# for ticker in tickers:\n",
        "#   df[ticker+'_arima'] = (df[ticker+'_arima'] - prices[ticker][1:-1]) / prices[ticker][1:-1]"
      ],
      "execution_count": 0,
      "outputs": []
    },
    {
      "cell_type": "markdown",
      "metadata": {
        "id": "wcBmVC6SjyF4",
        "colab_type": "text"
      },
      "source": [
        "## Simple Moving Averages"
      ]
    },
    {
      "cell_type": "code",
      "metadata": {
        "id": "YomacLYa8YYU",
        "colab_type": "code",
        "colab": {}
      },
      "source": [
        "#Add Additional training data\n",
        "extra_prices_dict = {}\n",
        "for ticker in tickers:\n",
        "    extra_ticker_prices = pdr.get_data_yahoo(ticker, extra_startdate, enddate)\n",
        "    extra_prices_dict[ticker] = extra_ticker_prices['Adj Close']\n",
        "    \n",
        "extra_prices = pd.DataFrame(extra_prices_dict)\n",
        "\n",
        "for ticker in tickers:\n",
        "  extra_prices[ticker + '_rolling_mean20'] = extra_prices[ticker].rolling(window=20).mean()\n",
        "  extra_prices[ticker + '_rolling_mean50'] = extra_prices[ticker].rolling(window=50).mean()\n",
        "  df[ticker + '_rolling_mean'] = extra_prices[ticker + '_rolling_mean20'][df.index.values]\n",
        "  df[ticker + '_rolling_mean50'] = extra_prices[ticker + '_rolling_mean50'][df.index.values]\n",
        "  df[ticker + '_rolling_mean_difference'] = df[ticker + '_rolling_mean'] - df[ticker + '_rolling_mean50']\n",
        "  plt.plot(prices[ticker], label=ticker)\n",
        "  plt.plot(prices[ticker + '_rolling_mean'], label= ticker + '20 Day SMA', color='orange')\n",
        "  plt.plot(prices[ticker + '_rolling_mean2'], label= ticker + ' 50 Day SMA', color='magenta')\n",
        "  plt.legend(loc='upper left')\n",
        "  plt.show()"
      ],
      "execution_count": 0,
      "outputs": []
    },
    {
      "cell_type": "markdown",
      "metadata": {
        "id": "jQ9gucpK8bpe",
        "colab_type": "text"
      },
      "source": [
        "## Exponential Moving Averages"
      ]
    },
    {
      "cell_type": "code",
      "metadata": {
        "id": "EsxCGQ8A8c4n",
        "colab_type": "code",
        "colab": {}
      },
      "source": [
        "for ticker in tickers:\n",
        "  extra_prices[ticker + '_exp20'] = extra_prices[ticker].ewm(span=20, adjust=False).mean()\n",
        "  extra_prices[ticker + '_exp50'] = extra_prices[ticker].ewm(span=50, adjust=False).mean()\n",
        "  df[ticker + '_exp20'] = extra_prices[ticker + '_exp20'][df.index.values]\n",
        "  df[ticker + '_exp50'] = extra_prices[ticker + '_exp50'][df.index.values]\n",
        "  df[ticker + '_exp_difference'] = df[ticker + '_exp20'] - df[ticker + '_exp50']\n",
        "  \n",
        "  plt.plot(prices[ticker], label=ticker)\n",
        "  plt.plot(prices[ticker + '_exp1'], label=ticker + '20 Day EMA')\n",
        "  plt.plot(prices[ticker + '_exp2'], label=ticker + '50 Day EMA')\n",
        "  plt.legend(loc='upper left')\n",
        "  plt.show()"
      ],
      "execution_count": 0,
      "outputs": []
    },
    {
      "cell_type": "markdown",
      "metadata": {
        "id": "A6-t1jTmBHQZ",
        "colab_type": "text"
      },
      "source": [
        "## Data Pre-processing"
      ]
    },
    {
      "cell_type": "code",
      "metadata": {
        "id": "XNncLje4BJsR",
        "colab_type": "code",
        "colab": {}
      },
      "source": [
        "#create x and y\n",
        "x = df.drop(['max_next_day', 'labelencode_max_next_day','>' + str(PERCENTILE) + ' Percentile?'], axis=1).copy() #making copies so editing x & y wouldnt change df\n",
        "y = df['>' + str(PERCENTILE) + ' Percentile?'].copy()\n",
        "\n",
        "#Change to between 0 to 1\n",
        "scaler = MinMaxScaler()\n",
        "  \n",
        "x_values = x.values #returns a numpy array\n",
        "min_max_scaler = MinMaxScaler()\n",
        "x_scaled = min_max_scaler.fit_transform(x_values)\n",
        "x = pd.DataFrame(x_scaled, columns=x.columns)\n"
      ],
      "execution_count": 0,
      "outputs": []
    },
    {
      "cell_type": "code",
      "metadata": {
        "id": "MJP5s0Pu2q_P",
        "colab_type": "code",
        "colab": {}
      },
      "source": [
        "x.head()"
      ],
      "execution_count": 0,
      "outputs": []
    },
    {
      "cell_type": "markdown",
      "metadata": {
        "id": "JVTwsiB8htYN",
        "colab_type": "text"
      },
      "source": [
        "## Final Check for Null Values"
      ]
    },
    {
      "cell_type": "code",
      "metadata": {
        "id": "qyn0Mp3Xhl27",
        "colab_type": "code",
        "colab": {}
      },
      "source": [
        "missing_values_count = df.isnull().sum()\n",
        "print(missing_values_count)"
      ],
      "execution_count": 0,
      "outputs": []
    },
    {
      "cell_type": "markdown",
      "metadata": {
        "id": "DKW7QO1rA3RL",
        "colab_type": "text"
      },
      "source": [
        "## Split Testing and Training Set "
      ]
    },
    {
      "cell_type": "code",
      "metadata": {
        "id": "9qiyVjPjUgjb",
        "colab_type": "code",
        "colab": {}
      },
      "source": [
        "#Split Test and Train set\n",
        "\n",
        "x_train, x_test, y_train, y_test = train_test_split(x, y, test_size=0.4, shuffle=False)\n",
        "x_stack_train, x_stack_test, y_stack_train, y_stack_test = train_test_split(x_test, y_test, test_size=0.4, shuffle=False)"
      ],
      "execution_count": 0,
      "outputs": []
    },
    {
      "cell_type": "markdown",
      "metadata": {
        "id": "yxUqrxfVV5Qk",
        "colab_type": "text"
      },
      "source": [
        "# Training models"
      ]
    },
    {
      "cell_type": "code",
      "metadata": {
        "id": "wfJ6VEEsZMPJ",
        "colab_type": "code",
        "colab": {}
      },
      "source": [
        "from sklearn import svm\n",
        "from sklearn.linear_model import LinearRegression\n",
        "from sklearn.ensemble import RandomForestClassifier\n",
        "from lightgbm import LGBMRegressor"
      ],
      "execution_count": 0,
      "outputs": []
    },
    {
      "cell_type": "code",
      "metadata": {
        "id": "yzb9NDNeV8fa",
        "colab_type": "code",
        "colab": {}
      },
      "source": [
        "#SVM\n",
        "clf1 = svm.SVC(gamma='scale')\n",
        "clf1.fit(x_train, y_train)\n",
        "clf1_predictions = clf1.predict(x_stack_train)\n",
        "print(clf1.score(x_test, y_test))"
      ],
      "execution_count": 0,
      "outputs": []
    },
    {
      "cell_type": "code",
      "metadata": {
        "id": "ggIpoYNXWBZ5",
        "colab_type": "code",
        "colab": {}
      },
      "source": [
        "#Random Forest\n",
        "clf2 = RandomForestClassifier(n_estimators=100, random_state=0)\n",
        "clf2.fit(x_train, y_train)\n",
        "clf2_predictions = clf2.predict(x_stack_train)\n",
        "print(clf2.score(x_test, y_test))"
      ],
      "execution_count": 0,
      "outputs": []
    },
    {
      "cell_type": "code",
      "metadata": {
        "id": "MtTCJYyhA720",
        "colab_type": "code",
        "colab": {}
      },
      "source": [
        "#XGBoost\n",
        "#!pip install xgboost\n",
        "from xgboost import XGBClassifier\n",
        "from sklearn.metrics import accuracy_score\n",
        "\n",
        "clf3 = XGBClassifier()\n",
        "clf3.fit(x_train, y_train)\n",
        "clf3_predictions = clf3.predict(x_stack_train)\n",
        "clf3_predictions = np.rint(clf3_predictions)\n",
        "clf3_predictions = clf3_predictions.astype(int)\n",
        "# print(accuracy_score(y_stack_train, clf3_predictions))\n",
        "print(clf3.score(x_test, y_test))"
      ],
      "execution_count": 0,
      "outputs": []
    },
    {
      "cell_type": "code",
      "metadata": {
        "id": "qTVT4gaE3NZ3",
        "colab_type": "code",
        "colab": {}
      },
      "source": [
        "clf1_predictions_reshaped = clf1_predictions.reshape(-1,1)\n",
        "df_predictions = pd.DataFrame(clf1_predictions_reshaped, columns=['clf1'])\n",
        "\n",
        "clf2_predictions_reshaped = clf2_predictions.reshape(-1,1)\n",
        "df_predictions['clf2'] = clf2_predictions_reshaped\n",
        "\n",
        "clf3_predictions_reshaped = clf3_predictions.reshape(-1,1)\n",
        "df_predictions['clf3'] = clf3_predictions_reshaped\n",
        "\n",
        "df_predictions.head()"
      ],
      "execution_count": 0,
      "outputs": []
    },
    {
      "cell_type": "markdown",
      "metadata": {
        "id": "CKHXPyG6WJTz",
        "colab_type": "text"
      },
      "source": [
        "#Stacking Training"
      ]
    },
    {
      "cell_type": "code",
      "metadata": {
        "id": "d35CRNG4bxSP",
        "colab_type": "code",
        "colab": {}
      },
      "source": [
        "from sklearn.neural_network import MLPClassifier"
      ],
      "execution_count": 0,
      "outputs": []
    },
    {
      "cell_type": "code",
      "metadata": {
        "id": "5Qws90utWMYA",
        "colab_type": "code",
        "colab": {}
      },
      "source": [
        "#Neural Networking Stacking Model\n",
        "clf4 = MLPClassifier(hidden_layer_sizes=100, solver='sgd', learning_rate='adaptive') #adaptive only for sgd\n",
        "clf4.fit(df_predictions, y_stack_train)\n",
        "\n",
        "\n",
        "#Test stacking model\n",
        "clf1_predictions = clf1.predict(x_stack_test)\n",
        "clf2_predictions = clf2.predict(x_stack_test)\n",
        "clf3_predictions = clf3.predict(x_stack_test)\n",
        "clf3_predictions = np.rint(clf3_predictions)\n",
        "clf3_predictions = clf3_predictions.astype(int)\n",
        "\n",
        "\n",
        "clf1_predictions_reshaped = clf1_predictions.reshape(-1,1)\n",
        "df_test_predictions = pd.DataFrame(clf1_predictions_reshaped, columns=['clf1'])\n",
        "\n",
        "clf2_predictions_reshaped = clf2_predictions.reshape(-1,1)\n",
        "df_test_predictions['clf2'] = clf2_predictions_reshaped\n",
        "\n",
        "clf3_predictions_reshaped = clf3_predictions.reshape(-1,1)\n",
        "df_test_predictions['clf3'] = clf3_predictions_reshaped\n",
        "print(clf4.score(df_test_predictions, y_stack_test))"
      ],
      "execution_count": 0,
      "outputs": []
    },
    {
      "cell_type": "markdown",
      "metadata": {
        "id": "jSN6ySbQWS_M",
        "colab_type": "text"
      },
      "source": [
        "#Testing of Models"
      ]
    },
    {
      "cell_type": "code",
      "metadata": {
        "id": "8zOJ5itfWU--",
        "colab_type": "code",
        "colab": {}
      },
      "source": [
        "#Test Score\n",
        "print('Test score for clf1: ' + str(clf1.score(x_test, y_test)))\n",
        "print('Test score for clf2: ' + str(clf2.score(x_test, y_test)))\n",
        "print('Test score for clf3: ' + str(clf3.score(x_test, y_test)))\n",
        "print('Test score for clf4: ' + str(clf4.score(df_test_predictions, y_stack_test)))\n"
      ],
      "execution_count": 0,
      "outputs": []
    },
    {
      "cell_type": "markdown",
      "metadata": {
        "id": "InvpZg6eJNT-",
        "colab_type": "text"
      },
      "source": [
        "# Post-Analysis"
      ]
    },
    {
      "cell_type": "code",
      "metadata": {
        "id": "xSDB1978Jblz",
        "colab_type": "code",
        "colab": {}
      },
      "source": [
        "#Find best feature for Random Forest \n",
        "importances = clf2.feature_importances_\n",
        "indices = range(0, len(importances))\n",
        "\n",
        "for i in range(0,len(importances)):\n",
        "  print(str(x.columns[i]) +' importances: ' + str(importances[i]))"
      ],
      "execution_count": 0,
      "outputs": []
    },
    {
      "cell_type": "code",
      "metadata": {
        "id": "OodZX-YYgSAn",
        "colab_type": "code",
        "colab": {}
      },
      "source": [
        "# Plot the feature importances of the forest\n",
        "features = x.columns\n",
        "plt.figure()\n",
        "plt.title(\"Feature importances\")\n",
        "plt.bar (indices, importances)\n",
        "plt.show()"
      ],
      "execution_count": 0,
      "outputs": []
    },
    {
      "cell_type": "code",
      "metadata": {
        "id": "VueWg2qR99KL",
        "colab_type": "code",
        "colab": {}
      },
      "source": [
        "#Max importance\n",
        "max_importance = 0\n",
        "\n",
        "for i in range(0,len(importances)):\n",
        "  if importances[i] >= importances[max_importance]:\n",
        "    max_importance = i\n",
        "print('Most important feature is: ' + str(x.columns[max_importance]))"
      ],
      "execution_count": 0,
      "outputs": []
    },
    {
      "cell_type": "code",
      "metadata": {
        "id": "jD7OsvnjJkDV",
        "colab_type": "code",
        "colab": {}
      },
      "source": [
        "#Predicted Returns\n",
        "clf4_predictions = clf4.predict(df_test_predictions)\n",
        "\n",
        "predicted_returns = []\n",
        "\n",
        "clf4_predictions = [x==1 for x in clf4_predictions]\n",
        "\n",
        "dates_bought = x_stack_test[clf4_predictions]\n",
        "\n",
        "for i in dates_bought.index.tolist():\n",
        "  predicted_returns.append(df_forward_returns.iloc[i,:][TICKER_OF_INTEREST+'_1D_forward_returns'])\n",
        "  \n",
        "mean_predicted_returns = sum(predicted_returns) / len(predicted_returns)\n",
        "print('Mean Predicted Returns: ' + str(mean_predicted_returns))\n",
        "\n",
        "\n",
        "# #Per ticker returns\n",
        "# print(x_stack_test[x_stack_test.columns[0:9]].mean(axis=0))\n"
      ],
      "execution_count": 0,
      "outputs": []
    },
    {
      "cell_type": "code",
      "metadata": {
        "id": "PjemtMHk44Ch",
        "colab_type": "code",
        "colab": {}
      },
      "source": [
        "print('Mean Predicted Returns: ' + str(mean_predicted_returns))\n",
        "for ticker in tickers:\n",
        "  ticker_returns = []\n",
        "  for i in range(x_stack_test.index[0], x_stack_test.index[-1]+1):\n",
        "    ticker_returns.append(df[ticker + '_returns'].iloc[i])\n",
        "  \n",
        "  mean_ticker_returns = sum(ticker_returns) / len(ticker_returns)\n",
        "  print(ticker + ' Returns: ' + str(mean_ticker_returns))\n",
        "  "
      ],
      "execution_count": 0,
      "outputs": []
    },
    {
      "cell_type": "markdown",
      "metadata": {
        "id": "R4b5hZ63XX5R",
        "colab_type": "text"
      },
      "source": [
        "# Export Model"
      ]
    },
    {
      "cell_type": "code",
      "metadata": {
        "id": "VzSz0gzwXaIN",
        "colab_type": "code",
        "colab": {}
      },
      "source": [
        "#Save Model\n",
        "\n",
        "#Export Model\n",
        "#Run for google, otherwise comment this and run below\n",
        "\n",
        "# from google.colab import drive\n",
        "# drive.mount('/content/gdrive')\n",
        "# result.to_csv(\"/content/gdrive/My Drive/Colab Notebooks/submission_file.csv\", index=False)\n",
        "\n",
        "# #Run for local machine\n",
        "# result.to_csv(\"./submission_file.csv\", index=False)"
      ],
      "execution_count": 0,
      "outputs": []
    }
  ]
}